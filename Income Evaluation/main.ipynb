{
 "metadata": {
  "language_info": {
   "codemirror_mode": {
    "name": "ipython",
    "version": 3
   },
   "file_extension": ".py",
   "mimetype": "text/x-python",
   "name": "python",
   "nbconvert_exporter": "python",
   "pygments_lexer": "ipython3",
   "version": "3.8.4-final"
  },
  "orig_nbformat": 2,
  "kernelspec": {
   "name": "python_defaultSpec_1600251267304",
   "display_name": "Python 3.8.4 64-bit"
  }
 },
 "nbformat": 4,
 "nbformat_minor": 2,
 "cells": [
  {
   "cell_type": "code",
   "execution_count": 1,
   "metadata": {},
   "outputs": [],
   "source": [
    "import numpy as np\n",
    "import matplotlib.pyplot as plt\n",
    "import pandas as pd"
   ]
  },
  {
   "cell_type": "code",
   "execution_count": 2,
   "metadata": {},
   "outputs": [
    {
     "output_type": "execute_result",
     "data": {
      "text/plain": "   age          workclass   fnlwgt   education   education-num  \\\n0   39          State-gov    77516   Bachelors              13   \n1   50   Self-emp-not-inc    83311   Bachelors              13   \n2   38            Private   215646     HS-grad               9   \n3   53            Private   234721        11th               7   \n4   28            Private   338409   Bachelors              13   \n\n        marital-status          occupation    relationship    race      sex  \\\n0        Never-married        Adm-clerical   Not-in-family   White     Male   \n1   Married-civ-spouse     Exec-managerial         Husband   White     Male   \n2             Divorced   Handlers-cleaners   Not-in-family   White     Male   \n3   Married-civ-spouse   Handlers-cleaners         Husband   Black     Male   \n4   Married-civ-spouse      Prof-specialty            Wife   Black   Female   \n\n    capital-gain   capital-loss   hours-per-week  native-country  income  \n0           2174              0               40   United-States   <=50K  \n1              0              0               13   United-States   <=50K  \n2              0              0               40   United-States   <=50K  \n3              0              0               40   United-States   <=50K  \n4              0              0               40            Cuba   <=50K  ",
      "text/html": "<div>\n<style scoped>\n    .dataframe tbody tr th:only-of-type {\n        vertical-align: middle;\n    }\n\n    .dataframe tbody tr th {\n        vertical-align: top;\n    }\n\n    .dataframe thead th {\n        text-align: right;\n    }\n</style>\n<table border=\"1\" class=\"dataframe\">\n  <thead>\n    <tr style=\"text-align: right;\">\n      <th></th>\n      <th>age</th>\n      <th>workclass</th>\n      <th>fnlwgt</th>\n      <th>education</th>\n      <th>education-num</th>\n      <th>marital-status</th>\n      <th>occupation</th>\n      <th>relationship</th>\n      <th>race</th>\n      <th>sex</th>\n      <th>capital-gain</th>\n      <th>capital-loss</th>\n      <th>hours-per-week</th>\n      <th>native-country</th>\n      <th>income</th>\n    </tr>\n  </thead>\n  <tbody>\n    <tr>\n      <th>0</th>\n      <td>39</td>\n      <td>State-gov</td>\n      <td>77516</td>\n      <td>Bachelors</td>\n      <td>13</td>\n      <td>Never-married</td>\n      <td>Adm-clerical</td>\n      <td>Not-in-family</td>\n      <td>White</td>\n      <td>Male</td>\n      <td>2174</td>\n      <td>0</td>\n      <td>40</td>\n      <td>United-States</td>\n      <td>&lt;=50K</td>\n    </tr>\n    <tr>\n      <th>1</th>\n      <td>50</td>\n      <td>Self-emp-not-inc</td>\n      <td>83311</td>\n      <td>Bachelors</td>\n      <td>13</td>\n      <td>Married-civ-spouse</td>\n      <td>Exec-managerial</td>\n      <td>Husband</td>\n      <td>White</td>\n      <td>Male</td>\n      <td>0</td>\n      <td>0</td>\n      <td>13</td>\n      <td>United-States</td>\n      <td>&lt;=50K</td>\n    </tr>\n    <tr>\n      <th>2</th>\n      <td>38</td>\n      <td>Private</td>\n      <td>215646</td>\n      <td>HS-grad</td>\n      <td>9</td>\n      <td>Divorced</td>\n      <td>Handlers-cleaners</td>\n      <td>Not-in-family</td>\n      <td>White</td>\n      <td>Male</td>\n      <td>0</td>\n      <td>0</td>\n      <td>40</td>\n      <td>United-States</td>\n      <td>&lt;=50K</td>\n    </tr>\n    <tr>\n      <th>3</th>\n      <td>53</td>\n      <td>Private</td>\n      <td>234721</td>\n      <td>11th</td>\n      <td>7</td>\n      <td>Married-civ-spouse</td>\n      <td>Handlers-cleaners</td>\n      <td>Husband</td>\n      <td>Black</td>\n      <td>Male</td>\n      <td>0</td>\n      <td>0</td>\n      <td>40</td>\n      <td>United-States</td>\n      <td>&lt;=50K</td>\n    </tr>\n    <tr>\n      <th>4</th>\n      <td>28</td>\n      <td>Private</td>\n      <td>338409</td>\n      <td>Bachelors</td>\n      <td>13</td>\n      <td>Married-civ-spouse</td>\n      <td>Prof-specialty</td>\n      <td>Wife</td>\n      <td>Black</td>\n      <td>Female</td>\n      <td>0</td>\n      <td>0</td>\n      <td>40</td>\n      <td>Cuba</td>\n      <td>&lt;=50K</td>\n    </tr>\n  </tbody>\n</table>\n</div>"
     },
     "metadata": {},
     "execution_count": 2
    }
   ],
   "source": [
    "dataset = pd.read_csv('income_evaluation.csv')\n",
    "dataset.head()"
   ]
  },
  {
   "cell_type": "code",
   "execution_count": 3,
   "metadata": {},
   "outputs": [],
   "source": [
    "#I this part im gonna analyse each columns to figure out how to deal with them"
   ]
  },
  {
   "cell_type": "code",
   "execution_count": 4,
   "metadata": {},
   "outputs": [],
   "source": [
    "#age\n",
    "#doesn't need to change 'age' just assign the column to another variable to concatinate at the end of data preprocessing\n",
    "X_age_final = dataset.iloc[:,0]"
   ]
  },
  {
   "cell_type": "code",
   "execution_count": 5,
   "metadata": {},
   "outputs": [
    {
     "output_type": "execute_result",
     "data": {
      "text/plain": "0            State-gov\n1     Self-emp-not-inc\n2              Private\n3              Private\n4              Private\nName:  workclass, dtype: object"
     },
     "metadata": {},
     "execution_count": 5
    }
   ],
   "source": [
    "#workclass\n",
    "X_workclass = dataset.iloc[:,1]\n",
    "X_workclass.head()"
   ]
  },
  {
   "cell_type": "code",
   "execution_count": 6,
   "metadata": {
    "tags": []
   },
   "outputs": [
    {
     "output_type": "stream",
     "name": "stdout",
     "text": "[' State-gov', ' Self-emp-not-inc', ' Private', ' Federal-gov', ' Local-gov', ' ?', ' Self-emp-inc', ' Without-pay', ' Never-worked']\n"
    }
   ],
   "source": [
    "all_types_workclass = []\n",
    "for item in X_workclass:\n",
    "    if item in all_types_workclass:\n",
    "        pass\n",
    "    else:\n",
    "        all_types_workclass.append(item)\n",
    "print(all_types_workclass)"
   ]
  },
  {
   "cell_type": "code",
   "execution_count": 7,
   "metadata": {},
   "outputs": [
    {
     "output_type": "execute_result",
     "data": {
      "text/plain": "        ?   Federal-gov   Local-gov   Never-worked   Private   Self-emp-inc  \\\n0       0             0           0              0         0              0   \n1       0             0           0              0         0              0   \n2       0             0           0              0         1              0   \n3       0             0           0              0         1              0   \n4       0             0           0              0         1              0   \n...    ..           ...         ...            ...       ...            ...   \n32556   0             0           0              0         1              0   \n32557   0             0           0              0         1              0   \n32558   0             0           0              0         1              0   \n32559   0             0           0              0         1              0   \n32560   0             0           0              0         0              1   \n\n        Self-emp-not-inc   State-gov   Without-pay  \n0                      0           1             0  \n1                      1           0             0  \n2                      0           0             0  \n3                      0           0             0  \n4                      0           0             0  \n...                  ...         ...           ...  \n32556                  0           0             0  \n32557                  0           0             0  \n32558                  0           0             0  \n32559                  0           0             0  \n32560                  0           0             0  \n\n[32561 rows x 9 columns]",
      "text/html": "<div>\n<style scoped>\n    .dataframe tbody tr th:only-of-type {\n        vertical-align: middle;\n    }\n\n    .dataframe tbody tr th {\n        vertical-align: top;\n    }\n\n    .dataframe thead th {\n        text-align: right;\n    }\n</style>\n<table border=\"1\" class=\"dataframe\">\n  <thead>\n    <tr style=\"text-align: right;\">\n      <th></th>\n      <th>?</th>\n      <th>Federal-gov</th>\n      <th>Local-gov</th>\n      <th>Never-worked</th>\n      <th>Private</th>\n      <th>Self-emp-inc</th>\n      <th>Self-emp-not-inc</th>\n      <th>State-gov</th>\n      <th>Without-pay</th>\n    </tr>\n  </thead>\n  <tbody>\n    <tr>\n      <th>0</th>\n      <td>0</td>\n      <td>0</td>\n      <td>0</td>\n      <td>0</td>\n      <td>0</td>\n      <td>0</td>\n      <td>0</td>\n      <td>1</td>\n      <td>0</td>\n    </tr>\n    <tr>\n      <th>1</th>\n      <td>0</td>\n      <td>0</td>\n      <td>0</td>\n      <td>0</td>\n      <td>0</td>\n      <td>0</td>\n      <td>1</td>\n      <td>0</td>\n      <td>0</td>\n    </tr>\n    <tr>\n      <th>2</th>\n      <td>0</td>\n      <td>0</td>\n      <td>0</td>\n      <td>0</td>\n      <td>1</td>\n      <td>0</td>\n      <td>0</td>\n      <td>0</td>\n      <td>0</td>\n    </tr>\n    <tr>\n      <th>3</th>\n      <td>0</td>\n      <td>0</td>\n      <td>0</td>\n      <td>0</td>\n      <td>1</td>\n      <td>0</td>\n      <td>0</td>\n      <td>0</td>\n      <td>0</td>\n    </tr>\n    <tr>\n      <th>4</th>\n      <td>0</td>\n      <td>0</td>\n      <td>0</td>\n      <td>0</td>\n      <td>1</td>\n      <td>0</td>\n      <td>0</td>\n      <td>0</td>\n      <td>0</td>\n    </tr>\n    <tr>\n      <th>...</th>\n      <td>...</td>\n      <td>...</td>\n      <td>...</td>\n      <td>...</td>\n      <td>...</td>\n      <td>...</td>\n      <td>...</td>\n      <td>...</td>\n      <td>...</td>\n    </tr>\n    <tr>\n      <th>32556</th>\n      <td>0</td>\n      <td>0</td>\n      <td>0</td>\n      <td>0</td>\n      <td>1</td>\n      <td>0</td>\n      <td>0</td>\n      <td>0</td>\n      <td>0</td>\n    </tr>\n    <tr>\n      <th>32557</th>\n      <td>0</td>\n      <td>0</td>\n      <td>0</td>\n      <td>0</td>\n      <td>1</td>\n      <td>0</td>\n      <td>0</td>\n      <td>0</td>\n      <td>0</td>\n    </tr>\n    <tr>\n      <th>32558</th>\n      <td>0</td>\n      <td>0</td>\n      <td>0</td>\n      <td>0</td>\n      <td>1</td>\n      <td>0</td>\n      <td>0</td>\n      <td>0</td>\n      <td>0</td>\n    </tr>\n    <tr>\n      <th>32559</th>\n      <td>0</td>\n      <td>0</td>\n      <td>0</td>\n      <td>0</td>\n      <td>1</td>\n      <td>0</td>\n      <td>0</td>\n      <td>0</td>\n      <td>0</td>\n    </tr>\n    <tr>\n      <th>32560</th>\n      <td>0</td>\n      <td>0</td>\n      <td>0</td>\n      <td>0</td>\n      <td>0</td>\n      <td>1</td>\n      <td>0</td>\n      <td>0</td>\n      <td>0</td>\n    </tr>\n  </tbody>\n</table>\n<p>32561 rows × 9 columns</p>\n</div>"
     },
     "metadata": {},
     "execution_count": 7
    }
   ],
   "source": [
    "X_workclass_dummies = pd.get_dummies(X_workclass)\n",
    "X_workclass_dummies"
   ]
  },
  {
   "cell_type": "code",
   "execution_count": 8,
   "metadata": {
    "tags": []
   },
   "outputs": [
    {
     "output_type": "stream",
     "name": "stdout",
     "text": "1836\n"
    }
   ],
   "source": [
    "counter = 0\n",
    "for item in X_workclass:\n",
    "    if item == ' ?':\n",
    "        counter += 1\n",
    "\n",
    "print(counter)"
   ]
  },
  {
   "cell_type": "code",
   "execution_count": 9,
   "metadata": {},
   "outputs": [],
   "source": [
    "X_workclass_dummies=X_workclass_dummies.drop(columns=' ?')"
   ]
  },
  {
   "cell_type": "code",
   "execution_count": 10,
   "metadata": {},
   "outputs": [
    {
     "output_type": "execute_result",
     "data": {
      "text/plain": "       WORKCLASS:Federal-gov  WORKCLASS:Local-gov  WORKCLASS:Never-worked  \\\n0                          0                    0                       0   \n1                          0                    0                       0   \n2                          0                    0                       0   \n3                          0                    0                       0   \n4                          0                    0                       0   \n...                      ...                  ...                     ...   \n32556                      0                    0                       0   \n32557                      0                    0                       0   \n32558                      0                    0                       0   \n32559                      0                    0                       0   \n32560                      0                    0                       0   \n\n       WORKCLASS:Private  WORKCLASS:Self-emp-inc  WORKCLASS:Self-emp-not-inc  \\\n0                      0                       0                           0   \n1                      0                       0                           1   \n2                      1                       0                           0   \n3                      1                       0                           0   \n4                      1                       0                           0   \n...                  ...                     ...                         ...   \n32556                  1                       0                           0   \n32557                  1                       0                           0   \n32558                  1                       0                           0   \n32559                  1                       0                           0   \n32560                  0                       1                           0   \n\n       WORKCLASS:State-gov  WORKCLASS:Without-pay  \n0                        1                      0  \n1                        0                      0  \n2                        0                      0  \n3                        0                      0  \n4                        0                      0  \n...                    ...                    ...  \n32556                    0                      0  \n32557                    0                      0  \n32558                    0                      0  \n32559                    0                      0  \n32560                    0                      0  \n\n[32561 rows x 8 columns]",
      "text/html": "<div>\n<style scoped>\n    .dataframe tbody tr th:only-of-type {\n        vertical-align: middle;\n    }\n\n    .dataframe tbody tr th {\n        vertical-align: top;\n    }\n\n    .dataframe thead th {\n        text-align: right;\n    }\n</style>\n<table border=\"1\" class=\"dataframe\">\n  <thead>\n    <tr style=\"text-align: right;\">\n      <th></th>\n      <th>WORKCLASS:Federal-gov</th>\n      <th>WORKCLASS:Local-gov</th>\n      <th>WORKCLASS:Never-worked</th>\n      <th>WORKCLASS:Private</th>\n      <th>WORKCLASS:Self-emp-inc</th>\n      <th>WORKCLASS:Self-emp-not-inc</th>\n      <th>WORKCLASS:State-gov</th>\n      <th>WORKCLASS:Without-pay</th>\n    </tr>\n  </thead>\n  <tbody>\n    <tr>\n      <th>0</th>\n      <td>0</td>\n      <td>0</td>\n      <td>0</td>\n      <td>0</td>\n      <td>0</td>\n      <td>0</td>\n      <td>1</td>\n      <td>0</td>\n    </tr>\n    <tr>\n      <th>1</th>\n      <td>0</td>\n      <td>0</td>\n      <td>0</td>\n      <td>0</td>\n      <td>0</td>\n      <td>1</td>\n      <td>0</td>\n      <td>0</td>\n    </tr>\n    <tr>\n      <th>2</th>\n      <td>0</td>\n      <td>0</td>\n      <td>0</td>\n      <td>1</td>\n      <td>0</td>\n      <td>0</td>\n      <td>0</td>\n      <td>0</td>\n    </tr>\n    <tr>\n      <th>3</th>\n      <td>0</td>\n      <td>0</td>\n      <td>0</td>\n      <td>1</td>\n      <td>0</td>\n      <td>0</td>\n      <td>0</td>\n      <td>0</td>\n    </tr>\n    <tr>\n      <th>4</th>\n      <td>0</td>\n      <td>0</td>\n      <td>0</td>\n      <td>1</td>\n      <td>0</td>\n      <td>0</td>\n      <td>0</td>\n      <td>0</td>\n    </tr>\n    <tr>\n      <th>...</th>\n      <td>...</td>\n      <td>...</td>\n      <td>...</td>\n      <td>...</td>\n      <td>...</td>\n      <td>...</td>\n      <td>...</td>\n      <td>...</td>\n    </tr>\n    <tr>\n      <th>32556</th>\n      <td>0</td>\n      <td>0</td>\n      <td>0</td>\n      <td>1</td>\n      <td>0</td>\n      <td>0</td>\n      <td>0</td>\n      <td>0</td>\n    </tr>\n    <tr>\n      <th>32557</th>\n      <td>0</td>\n      <td>0</td>\n      <td>0</td>\n      <td>1</td>\n      <td>0</td>\n      <td>0</td>\n      <td>0</td>\n      <td>0</td>\n    </tr>\n    <tr>\n      <th>32558</th>\n      <td>0</td>\n      <td>0</td>\n      <td>0</td>\n      <td>1</td>\n      <td>0</td>\n      <td>0</td>\n      <td>0</td>\n      <td>0</td>\n    </tr>\n    <tr>\n      <th>32559</th>\n      <td>0</td>\n      <td>0</td>\n      <td>0</td>\n      <td>1</td>\n      <td>0</td>\n      <td>0</td>\n      <td>0</td>\n      <td>0</td>\n    </tr>\n    <tr>\n      <th>32560</th>\n      <td>0</td>\n      <td>0</td>\n      <td>0</td>\n      <td>0</td>\n      <td>1</td>\n      <td>0</td>\n      <td>0</td>\n      <td>0</td>\n    </tr>\n  </tbody>\n</table>\n<p>32561 rows × 8 columns</p>\n</div>"
     },
     "metadata": {},
     "execution_count": 10
    }
   ],
   "source": [
    "X_workclass_final = X_workclass_dummies.rename(columns={' Federal-gov':'WORKCLASS:Federal-gov',\n",
    "                                                        ' Local-gov':'WORKCLASS:Local-gov',\n",
    "                                                        ' Never-worked':'WORKCLASS:Never-worked',\n",
    "                                                        ' Private':'WORKCLASS:Private',\n",
    "                                                        ' Self-emp-inc':'WORKCLASS:Self-emp-inc',\n",
    "                                                        ' Self-emp-not-inc':'WORKCLASS:Self-emp-not-inc',\n",
    "                                                        ' State-gov':'WORKCLASS:State-gov',\n",
    "                                                        ' Without-pay':'WORKCLASS:Without-pay',})\n",
    "X_workclass_final"
   ]
  },
  {
   "cell_type": "code",
   "execution_count": 11,
   "metadata": {
    "tags": []
   },
   "outputs": [
    {
     "output_type": "stream",
     "name": "stdout",
     "text": "12285\n1484705\n"
    }
   ],
   "source": [
    "#final weight\n",
    "X_fnlwgt = dataset.iloc[:,2]\n",
    "print(min(X_fnlwgt))\n",
    "print(max(X_fnlwgt))\n",
    "X_fnlwgt_final = X_fnlwgt\n",
    "# we dont need fnlwgt #because it is the numeric representation of the attribute education"
   ]
  },
  {
   "cell_type": "code",
   "execution_count": 12,
   "metadata": {
    "tags": []
   },
   "outputs": [
    {
     "output_type": "stream",
     "name": "stdout",
     "text": "[' Bachelors', ' HS-grad', ' 11th', ' Masters', ' 9th', ' Some-college', ' Assoc-acdm', ' Assoc-voc', ' 7th-8th', ' Doctorate', ' Prof-school', ' 5th-6th', ' 10th', ' 1st-4th', ' Preschool', ' 12th']\n16\n"
    }
   ],
   "source": [
    "#   education\n",
    "X_education = dataset.iloc[:,3]\n",
    "all_types_education = []\n",
    "for item in X_education:\n",
    "    if item in all_types_education:\n",
    "        pass\n",
    "    else:\n",
    "        all_types_education.append(item)\n",
    "print(all_types_education)\n",
    "print(len(all_types_education))"
   ]
  },
  {
   "cell_type": "code",
   "execution_count": 13,
   "metadata": {},
   "outputs": [
    {
     "output_type": "execute_result",
     "data": {
      "text/plain": "\" we can rank these degree of educations from the lowest to the highest\\n    1- ' Preschool'\\n    2- ' 1st-4th'\\n    3- ' 5th-6th'\\n    4- ' 7th-8th'\\n    5- ' 9th'\\n    6- ' 10th'\\n    7- ' 11th'\\n    8- ' 12th'\\n    9- ' HS-grad'\\n    10- ' Prof-school'\\n    11- ' Assoc-acdm'\\n    12- ' Assoc-voc'\\n    13- 'Some-college'\\n    14- ' Bachelors'\\n    15- ' Masters'\\n    16- ' Doctorate'\\n    \""
     },
     "metadata": {},
     "execution_count": 13
    }
   ],
   "source": [
    "''' we can rank these degree of educations from the lowest to the highest\n",
    "    1- ' Preschool'\n",
    "    2- ' 1st-4th'\n",
    "    3- ' 5th-6th'\n",
    "    4- ' 7th-8th'\n",
    "    5- ' 9th'\n",
    "    6- ' 10th'\n",
    "    7- ' 11th'\n",
    "    8- ' 12th'\n",
    "    9- ' HS-grad'\n",
    "    10- ' Prof-school'\n",
    "    11- ' Assoc-acdm'\n",
    "    12- ' Assoc-voc'\n",
    "    13- 'Some-college'\n",
    "    14- ' Bachelors'\n",
    "    15- ' Masters'\n",
    "    16- ' Doctorate'\n",
    "    '''"
   ]
  },
  {
   "cell_type": "code",
   "execution_count": 14,
   "metadata": {},
   "outputs": [],
   "source": [
    "X_education_final = X_education.replace([' Bachelors', ' HS-grad', ' 11th', ' Masters', ' 9th', ' Some-college', ' Assoc-acdm', ' Assoc-voc', ' 7th-8th', ' Doctorate', ' Prof-school', ' 5th-6th', ' 10th', ' 1st-4th', ' Preschool', ' 12th'],[14,9,7,15,5,13,11,12,4,16,10,3,6,2,1,8])"
   ]
  },
  {
   "cell_type": "code",
   "execution_count": 15,
   "metadata": {},
   "outputs": [
    {
     "output_type": "execute_result",
     "data": {
      "text/plain": "0        14\n1        14\n2         9\n3         7\n4        14\n         ..\n32556    11\n32557     9\n32558     9\n32559     9\n32560     9\nName:  education, Length: 32561, dtype: int64"
     },
     "metadata": {},
     "execution_count": 15
    }
   ],
   "source": [
    "X_education_final"
   ]
  },
  {
   "cell_type": "code",
   "execution_count": 16,
   "metadata": {},
   "outputs": [],
   "source": [
    "# education number\n",
    "# the data set education number is wrong by the refrence to https://sites.google.com/site/complexdataminingproject/ website\n",
    "# I already satisfied the education num in the education part so we dont need this column."
   ]
  },
  {
   "cell_type": "code",
   "execution_count": 17,
   "metadata": {},
   "outputs": [],
   "source": [
    "# marital-status"
   ]
  },
  {
   "cell_type": "code",
   "execution_count": 18,
   "metadata": {
    "tags": []
   },
   "outputs": [
    {
     "output_type": "stream",
     "name": "stdout",
     "text": "[' Never-married', ' Married-civ-spouse', ' Divorced', ' Married-spouse-absent', ' Separated', ' Married-AF-spouse', ' Widowed']\n7\n"
    }
   ],
   "source": [
    "X_marital_status = dataset.iloc[:,5]\n",
    "all_types_marital_status = []\n",
    "for item in X_marital_status:\n",
    "    if item in all_types_marital_status:\n",
    "        pass\n",
    "    else:\n",
    "        all_types_marital_status.append(item)\n",
    "print(all_types_marital_status)\n",
    "print(len(all_types_marital_status))"
   ]
  },
  {
   "cell_type": "code",
   "execution_count": 19,
   "metadata": {},
   "outputs": [],
   "source": [
    "X_marital_status_dummies = pd.get_dummies(X_marital_status)\n",
    "X_marital_status_dummies = X_marital_status_dummies.drop(columns=' Never-married')"
   ]
  },
  {
   "cell_type": "code",
   "execution_count": 20,
   "metadata": {},
   "outputs": [
    {
     "output_type": "execute_result",
     "data": {
      "text/plain": "       MARITAL_STATUS: Divorced  MARITAL_STATUS: Married-AF-spouse  \\\n0                             0                                  0   \n1                             0                                  0   \n2                             1                                  0   \n3                             0                                  0   \n4                             0                                  0   \n...                         ...                                ...   \n32556                         0                                  0   \n32557                         0                                  0   \n32558                         0                                  0   \n32559                         0                                  0   \n32560                         0                                  0   \n\n       MARITAL_STATUS: Married-civ-spouse  \\\n0                                       0   \n1                                       1   \n2                                       0   \n3                                       1   \n4                                       1   \n...                                   ...   \n32556                                   1   \n32557                                   1   \n32558                                   0   \n32559                                   0   \n32560                                   1   \n\n       MARITAL_STATUS: Married-spouse-absent  MARITAL_STATUS: Separated  \\\n0                                          0                          0   \n1                                          0                          0   \n2                                          0                          0   \n3                                          0                          0   \n4                                          0                          0   \n...                                      ...                        ...   \n32556                                      0                          0   \n32557                                      0                          0   \n32558                                      0                          0   \n32559                                      0                          0   \n32560                                      0                          0   \n\n       MARITAL_STATUS: Widowed  \n0                            0  \n1                            0  \n2                            0  \n3                            0  \n4                            0  \n...                        ...  \n32556                        0  \n32557                        0  \n32558                        1  \n32559                        0  \n32560                        0  \n\n[32561 rows x 6 columns]",
      "text/html": "<div>\n<style scoped>\n    .dataframe tbody tr th:only-of-type {\n        vertical-align: middle;\n    }\n\n    .dataframe tbody tr th {\n        vertical-align: top;\n    }\n\n    .dataframe thead th {\n        text-align: right;\n    }\n</style>\n<table border=\"1\" class=\"dataframe\">\n  <thead>\n    <tr style=\"text-align: right;\">\n      <th></th>\n      <th>MARITAL_STATUS: Divorced</th>\n      <th>MARITAL_STATUS: Married-AF-spouse</th>\n      <th>MARITAL_STATUS: Married-civ-spouse</th>\n      <th>MARITAL_STATUS: Married-spouse-absent</th>\n      <th>MARITAL_STATUS: Separated</th>\n      <th>MARITAL_STATUS: Widowed</th>\n    </tr>\n  </thead>\n  <tbody>\n    <tr>\n      <th>0</th>\n      <td>0</td>\n      <td>0</td>\n      <td>0</td>\n      <td>0</td>\n      <td>0</td>\n      <td>0</td>\n    </tr>\n    <tr>\n      <th>1</th>\n      <td>0</td>\n      <td>0</td>\n      <td>1</td>\n      <td>0</td>\n      <td>0</td>\n      <td>0</td>\n    </tr>\n    <tr>\n      <th>2</th>\n      <td>1</td>\n      <td>0</td>\n      <td>0</td>\n      <td>0</td>\n      <td>0</td>\n      <td>0</td>\n    </tr>\n    <tr>\n      <th>3</th>\n      <td>0</td>\n      <td>0</td>\n      <td>1</td>\n      <td>0</td>\n      <td>0</td>\n      <td>0</td>\n    </tr>\n    <tr>\n      <th>4</th>\n      <td>0</td>\n      <td>0</td>\n      <td>1</td>\n      <td>0</td>\n      <td>0</td>\n      <td>0</td>\n    </tr>\n    <tr>\n      <th>...</th>\n      <td>...</td>\n      <td>...</td>\n      <td>...</td>\n      <td>...</td>\n      <td>...</td>\n      <td>...</td>\n    </tr>\n    <tr>\n      <th>32556</th>\n      <td>0</td>\n      <td>0</td>\n      <td>1</td>\n      <td>0</td>\n      <td>0</td>\n      <td>0</td>\n    </tr>\n    <tr>\n      <th>32557</th>\n      <td>0</td>\n      <td>0</td>\n      <td>1</td>\n      <td>0</td>\n      <td>0</td>\n      <td>0</td>\n    </tr>\n    <tr>\n      <th>32558</th>\n      <td>0</td>\n      <td>0</td>\n      <td>0</td>\n      <td>0</td>\n      <td>0</td>\n      <td>1</td>\n    </tr>\n    <tr>\n      <th>32559</th>\n      <td>0</td>\n      <td>0</td>\n      <td>0</td>\n      <td>0</td>\n      <td>0</td>\n      <td>0</td>\n    </tr>\n    <tr>\n      <th>32560</th>\n      <td>0</td>\n      <td>0</td>\n      <td>1</td>\n      <td>0</td>\n      <td>0</td>\n      <td>0</td>\n    </tr>\n  </tbody>\n</table>\n<p>32561 rows × 6 columns</p>\n</div>"
     },
     "metadata": {},
     "execution_count": 20
    }
   ],
   "source": [
    "X_marital_status_final = X_marital_status_dummies.rename(columns={' Never-married':'MARITAL_STATUS: Never-married',\n",
    "                                                        ' Married-civ-spouse':'MARITAL_STATUS: Married-civ-spouse',\n",
    "                                                        ' Divorced':'MARITAL_STATUS: Divorced',\n",
    "                                                        ' Married-spouse-absent':'MARITAL_STATUS: Married-spouse-absent',\n",
    "                                                        ' Separated':'MARITAL_STATUS: Separated',\n",
    "                                                        ' Married-AF-spouse':'MARITAL_STATUS: Married-AF-spouse',\n",
    "                                                        ' Widowed':'MARITAL_STATUS: Widowed',\n",
    "                                                        })\n",
    "X_marital_status_final"
   ]
  },
  {
   "cell_type": "code",
   "execution_count": 21,
   "metadata": {
    "tags": []
   },
   "outputs": [
    {
     "output_type": "stream",
     "name": "stdout",
     "text": "[' Adm-clerical', ' Exec-managerial', ' Handlers-cleaners', ' Prof-specialty', ' Other-service', ' Sales', ' Craft-repair', ' Transport-moving', ' Farming-fishing', ' Machine-op-inspct', ' Tech-support', ' ?', ' Protective-serv', ' Armed-Forces', ' Priv-house-serv']\n15\n"
    }
   ],
   "source": [
    "# occupation\n",
    "X_occupation = dataset.iloc[:,6]\n",
    "all_types_occupation = []\n",
    "for item in X_occupation:\n",
    "    if item in all_types_occupation:\n",
    "        pass\n",
    "    else:\n",
    "        all_types_occupation.append(item)\n",
    "print(all_types_occupation)\n",
    "print(len(all_types_occupation))"
   ]
  },
  {
   "cell_type": "code",
   "execution_count": 22,
   "metadata": {},
   "outputs": [
    {
     "output_type": "execute_result",
     "data": {
      "text/plain": "        Adm-clerical   Armed-Forces   Craft-repair   Exec-managerial  \\\n0                  1              0              0                 0   \n1                  0              0              0                 1   \n2                  0              0              0                 0   \n3                  0              0              0                 0   \n4                  0              0              0                 0   \n...              ...            ...            ...               ...   \n32556              0              0              0                 0   \n32557              0              0              0                 0   \n32558              1              0              0                 0   \n32559              1              0              0                 0   \n32560              0              0              0                 1   \n\n        Farming-fishing   Handlers-cleaners   Machine-op-inspct  \\\n0                     0                   0                   0   \n1                     0                   0                   0   \n2                     0                   1                   0   \n3                     0                   1                   0   \n4                     0                   0                   0   \n...                 ...                 ...                 ...   \n32556                 0                   0                   0   \n32557                 0                   0                   1   \n32558                 0                   0                   0   \n32559                 0                   0                   0   \n32560                 0                   0                   0   \n\n        Other-service   Priv-house-serv   Prof-specialty   Protective-serv  \\\n0                   0                 0                0                 0   \n1                   0                 0                0                 0   \n2                   0                 0                0                 0   \n3                   0                 0                0                 0   \n4                   0                 0                1                 0   \n...               ...               ...              ...               ...   \n32556               0                 0                0                 0   \n32557               0                 0                0                 0   \n32558               0                 0                0                 0   \n32559               0                 0                0                 0   \n32560               0                 0                0                 0   \n\n        Sales   Tech-support   Transport-moving  \n0           0              0                  0  \n1           0              0                  0  \n2           0              0                  0  \n3           0              0                  0  \n4           0              0                  0  \n...       ...            ...                ...  \n32556       0              1                  0  \n32557       0              0                  0  \n32558       0              0                  0  \n32559       0              0                  0  \n32560       0              0                  0  \n\n[32561 rows x 14 columns]",
      "text/html": "<div>\n<style scoped>\n    .dataframe tbody tr th:only-of-type {\n        vertical-align: middle;\n    }\n\n    .dataframe tbody tr th {\n        vertical-align: top;\n    }\n\n    .dataframe thead th {\n        text-align: right;\n    }\n</style>\n<table border=\"1\" class=\"dataframe\">\n  <thead>\n    <tr style=\"text-align: right;\">\n      <th></th>\n      <th>Adm-clerical</th>\n      <th>Armed-Forces</th>\n      <th>Craft-repair</th>\n      <th>Exec-managerial</th>\n      <th>Farming-fishing</th>\n      <th>Handlers-cleaners</th>\n      <th>Machine-op-inspct</th>\n      <th>Other-service</th>\n      <th>Priv-house-serv</th>\n      <th>Prof-specialty</th>\n      <th>Protective-serv</th>\n      <th>Sales</th>\n      <th>Tech-support</th>\n      <th>Transport-moving</th>\n    </tr>\n  </thead>\n  <tbody>\n    <tr>\n      <th>0</th>\n      <td>1</td>\n      <td>0</td>\n      <td>0</td>\n      <td>0</td>\n      <td>0</td>\n      <td>0</td>\n      <td>0</td>\n      <td>0</td>\n      <td>0</td>\n      <td>0</td>\n      <td>0</td>\n      <td>0</td>\n      <td>0</td>\n      <td>0</td>\n    </tr>\n    <tr>\n      <th>1</th>\n      <td>0</td>\n      <td>0</td>\n      <td>0</td>\n      <td>1</td>\n      <td>0</td>\n      <td>0</td>\n      <td>0</td>\n      <td>0</td>\n      <td>0</td>\n      <td>0</td>\n      <td>0</td>\n      <td>0</td>\n      <td>0</td>\n      <td>0</td>\n    </tr>\n    <tr>\n      <th>2</th>\n      <td>0</td>\n      <td>0</td>\n      <td>0</td>\n      <td>0</td>\n      <td>0</td>\n      <td>1</td>\n      <td>0</td>\n      <td>0</td>\n      <td>0</td>\n      <td>0</td>\n      <td>0</td>\n      <td>0</td>\n      <td>0</td>\n      <td>0</td>\n    </tr>\n    <tr>\n      <th>3</th>\n      <td>0</td>\n      <td>0</td>\n      <td>0</td>\n      <td>0</td>\n      <td>0</td>\n      <td>1</td>\n      <td>0</td>\n      <td>0</td>\n      <td>0</td>\n      <td>0</td>\n      <td>0</td>\n      <td>0</td>\n      <td>0</td>\n      <td>0</td>\n    </tr>\n    <tr>\n      <th>4</th>\n      <td>0</td>\n      <td>0</td>\n      <td>0</td>\n      <td>0</td>\n      <td>0</td>\n      <td>0</td>\n      <td>0</td>\n      <td>0</td>\n      <td>0</td>\n      <td>1</td>\n      <td>0</td>\n      <td>0</td>\n      <td>0</td>\n      <td>0</td>\n    </tr>\n    <tr>\n      <th>...</th>\n      <td>...</td>\n      <td>...</td>\n      <td>...</td>\n      <td>...</td>\n      <td>...</td>\n      <td>...</td>\n      <td>...</td>\n      <td>...</td>\n      <td>...</td>\n      <td>...</td>\n      <td>...</td>\n      <td>...</td>\n      <td>...</td>\n      <td>...</td>\n    </tr>\n    <tr>\n      <th>32556</th>\n      <td>0</td>\n      <td>0</td>\n      <td>0</td>\n      <td>0</td>\n      <td>0</td>\n      <td>0</td>\n      <td>0</td>\n      <td>0</td>\n      <td>0</td>\n      <td>0</td>\n      <td>0</td>\n      <td>0</td>\n      <td>1</td>\n      <td>0</td>\n    </tr>\n    <tr>\n      <th>32557</th>\n      <td>0</td>\n      <td>0</td>\n      <td>0</td>\n      <td>0</td>\n      <td>0</td>\n      <td>0</td>\n      <td>1</td>\n      <td>0</td>\n      <td>0</td>\n      <td>0</td>\n      <td>0</td>\n      <td>0</td>\n      <td>0</td>\n      <td>0</td>\n    </tr>\n    <tr>\n      <th>32558</th>\n      <td>1</td>\n      <td>0</td>\n      <td>0</td>\n      <td>0</td>\n      <td>0</td>\n      <td>0</td>\n      <td>0</td>\n      <td>0</td>\n      <td>0</td>\n      <td>0</td>\n      <td>0</td>\n      <td>0</td>\n      <td>0</td>\n      <td>0</td>\n    </tr>\n    <tr>\n      <th>32559</th>\n      <td>1</td>\n      <td>0</td>\n      <td>0</td>\n      <td>0</td>\n      <td>0</td>\n      <td>0</td>\n      <td>0</td>\n      <td>0</td>\n      <td>0</td>\n      <td>0</td>\n      <td>0</td>\n      <td>0</td>\n      <td>0</td>\n      <td>0</td>\n    </tr>\n    <tr>\n      <th>32560</th>\n      <td>0</td>\n      <td>0</td>\n      <td>0</td>\n      <td>1</td>\n      <td>0</td>\n      <td>0</td>\n      <td>0</td>\n      <td>0</td>\n      <td>0</td>\n      <td>0</td>\n      <td>0</td>\n      <td>0</td>\n      <td>0</td>\n      <td>0</td>\n    </tr>\n  </tbody>\n</table>\n<p>32561 rows × 14 columns</p>\n</div>"
     },
     "metadata": {},
     "execution_count": 22
    }
   ],
   "source": [
    "X_occupation_dummies = pd.get_dummies(X_occupation)\n",
    "X_occupation_dummies = X_occupation_dummies.drop(columns=' ?')\n",
    "X_occupation_dummies"
   ]
  },
  {
   "cell_type": "code",
   "execution_count": 23,
   "metadata": {},
   "outputs": [],
   "source": [
    "X_occupation_final = X_occupation_dummies.rename(columns={\n",
    "                                                 ' Adm-clerical':'OCP: Adm-clerical',\n",
    "                                                 ' Exec-managerial':'OCP: Exec-managerial',\n",
    "                                                 ' Handlers-cleaners':'OCP Handlers-cleaners',\n",
    "                                                 ' Prof-specialty':'OCP: Prof-specialty',\n",
    "                                                 ' Other-service':'OCP: Other-service',\n",
    "                                                 ' Sales':'OCP: Sales',\n",
    "                                                 ' Craft-repair':'OCP: Craft-repair',\n",
    "                                                 ' Transport-moving':'OCP: Transport-moving',\n",
    "                                                 ' Farming-fishing':'OCP: Farming-fishing',\n",
    "                                                 ' Machine-op-inspct':'OCP: Machine-op-inspct',\n",
    "                                                 ' Tech-support':'OCP: Tech-support',\n",
    "                                                 ' Protective-serv':'OCP: Protective-serv',\n",
    "                                                 ' Armed-Forces':'OCP: Armed-Forces',\n",
    "                                                 ' Priv-house-serv':'OCP: Priv-house-serv'})"
   ]
  },
  {
   "cell_type": "code",
   "execution_count": 24,
   "metadata": {},
   "outputs": [
    {
     "output_type": "execute_result",
     "data": {
      "text/plain": "       OCP: Adm-clerical  OCP: Armed-Forces  OCP: Craft-repair  \\\n0                      1                  0                  0   \n1                      0                  0                  0   \n2                      0                  0                  0   \n3                      0                  0                  0   \n4                      0                  0                  0   \n...                  ...                ...                ...   \n32556                  0                  0                  0   \n32557                  0                  0                  0   \n32558                  1                  0                  0   \n32559                  1                  0                  0   \n32560                  0                  0                  0   \n\n       OCP: Exec-managerial  OCP: Farming-fishing  OCP Handlers-cleaners  \\\n0                         0                     0                      0   \n1                         1                     0                      0   \n2                         0                     0                      1   \n3                         0                     0                      1   \n4                         0                     0                      0   \n...                     ...                   ...                    ...   \n32556                     0                     0                      0   \n32557                     0                     0                      0   \n32558                     0                     0                      0   \n32559                     0                     0                      0   \n32560                     1                     0                      0   \n\n       OCP: Machine-op-inspct  OCP: Other-service  OCP: Priv-house-serv  \\\n0                           0                   0                     0   \n1                           0                   0                     0   \n2                           0                   0                     0   \n3                           0                   0                     0   \n4                           0                   0                     0   \n...                       ...                 ...                   ...   \n32556                       0                   0                     0   \n32557                       1                   0                     0   \n32558                       0                   0                     0   \n32559                       0                   0                     0   \n32560                       0                   0                     0   \n\n       OCP: Prof-specialty  OCP: Protective-serv  OCP: Sales  \\\n0                        0                     0           0   \n1                        0                     0           0   \n2                        0                     0           0   \n3                        0                     0           0   \n4                        1                     0           0   \n...                    ...                   ...         ...   \n32556                    0                     0           0   \n32557                    0                     0           0   \n32558                    0                     0           0   \n32559                    0                     0           0   \n32560                    0                     0           0   \n\n       OCP: Tech-support  OCP: Transport-moving  \n0                      0                      0  \n1                      0                      0  \n2                      0                      0  \n3                      0                      0  \n4                      0                      0  \n...                  ...                    ...  \n32556                  1                      0  \n32557                  0                      0  \n32558                  0                      0  \n32559                  0                      0  \n32560                  0                      0  \n\n[32561 rows x 14 columns]",
      "text/html": "<div>\n<style scoped>\n    .dataframe tbody tr th:only-of-type {\n        vertical-align: middle;\n    }\n\n    .dataframe tbody tr th {\n        vertical-align: top;\n    }\n\n    .dataframe thead th {\n        text-align: right;\n    }\n</style>\n<table border=\"1\" class=\"dataframe\">\n  <thead>\n    <tr style=\"text-align: right;\">\n      <th></th>\n      <th>OCP: Adm-clerical</th>\n      <th>OCP: Armed-Forces</th>\n      <th>OCP: Craft-repair</th>\n      <th>OCP: Exec-managerial</th>\n      <th>OCP: Farming-fishing</th>\n      <th>OCP Handlers-cleaners</th>\n      <th>OCP: Machine-op-inspct</th>\n      <th>OCP: Other-service</th>\n      <th>OCP: Priv-house-serv</th>\n      <th>OCP: Prof-specialty</th>\n      <th>OCP: Protective-serv</th>\n      <th>OCP: Sales</th>\n      <th>OCP: Tech-support</th>\n      <th>OCP: Transport-moving</th>\n    </tr>\n  </thead>\n  <tbody>\n    <tr>\n      <th>0</th>\n      <td>1</td>\n      <td>0</td>\n      <td>0</td>\n      <td>0</td>\n      <td>0</td>\n      <td>0</td>\n      <td>0</td>\n      <td>0</td>\n      <td>0</td>\n      <td>0</td>\n      <td>0</td>\n      <td>0</td>\n      <td>0</td>\n      <td>0</td>\n    </tr>\n    <tr>\n      <th>1</th>\n      <td>0</td>\n      <td>0</td>\n      <td>0</td>\n      <td>1</td>\n      <td>0</td>\n      <td>0</td>\n      <td>0</td>\n      <td>0</td>\n      <td>0</td>\n      <td>0</td>\n      <td>0</td>\n      <td>0</td>\n      <td>0</td>\n      <td>0</td>\n    </tr>\n    <tr>\n      <th>2</th>\n      <td>0</td>\n      <td>0</td>\n      <td>0</td>\n      <td>0</td>\n      <td>0</td>\n      <td>1</td>\n      <td>0</td>\n      <td>0</td>\n      <td>0</td>\n      <td>0</td>\n      <td>0</td>\n      <td>0</td>\n      <td>0</td>\n      <td>0</td>\n    </tr>\n    <tr>\n      <th>3</th>\n      <td>0</td>\n      <td>0</td>\n      <td>0</td>\n      <td>0</td>\n      <td>0</td>\n      <td>1</td>\n      <td>0</td>\n      <td>0</td>\n      <td>0</td>\n      <td>0</td>\n      <td>0</td>\n      <td>0</td>\n      <td>0</td>\n      <td>0</td>\n    </tr>\n    <tr>\n      <th>4</th>\n      <td>0</td>\n      <td>0</td>\n      <td>0</td>\n      <td>0</td>\n      <td>0</td>\n      <td>0</td>\n      <td>0</td>\n      <td>0</td>\n      <td>0</td>\n      <td>1</td>\n      <td>0</td>\n      <td>0</td>\n      <td>0</td>\n      <td>0</td>\n    </tr>\n    <tr>\n      <th>...</th>\n      <td>...</td>\n      <td>...</td>\n      <td>...</td>\n      <td>...</td>\n      <td>...</td>\n      <td>...</td>\n      <td>...</td>\n      <td>...</td>\n      <td>...</td>\n      <td>...</td>\n      <td>...</td>\n      <td>...</td>\n      <td>...</td>\n      <td>...</td>\n    </tr>\n    <tr>\n      <th>32556</th>\n      <td>0</td>\n      <td>0</td>\n      <td>0</td>\n      <td>0</td>\n      <td>0</td>\n      <td>0</td>\n      <td>0</td>\n      <td>0</td>\n      <td>0</td>\n      <td>0</td>\n      <td>0</td>\n      <td>0</td>\n      <td>1</td>\n      <td>0</td>\n    </tr>\n    <tr>\n      <th>32557</th>\n      <td>0</td>\n      <td>0</td>\n      <td>0</td>\n      <td>0</td>\n      <td>0</td>\n      <td>0</td>\n      <td>1</td>\n      <td>0</td>\n      <td>0</td>\n      <td>0</td>\n      <td>0</td>\n      <td>0</td>\n      <td>0</td>\n      <td>0</td>\n    </tr>\n    <tr>\n      <th>32558</th>\n      <td>1</td>\n      <td>0</td>\n      <td>0</td>\n      <td>0</td>\n      <td>0</td>\n      <td>0</td>\n      <td>0</td>\n      <td>0</td>\n      <td>0</td>\n      <td>0</td>\n      <td>0</td>\n      <td>0</td>\n      <td>0</td>\n      <td>0</td>\n    </tr>\n    <tr>\n      <th>32559</th>\n      <td>1</td>\n      <td>0</td>\n      <td>0</td>\n      <td>0</td>\n      <td>0</td>\n      <td>0</td>\n      <td>0</td>\n      <td>0</td>\n      <td>0</td>\n      <td>0</td>\n      <td>0</td>\n      <td>0</td>\n      <td>0</td>\n      <td>0</td>\n    </tr>\n    <tr>\n      <th>32560</th>\n      <td>0</td>\n      <td>0</td>\n      <td>0</td>\n      <td>1</td>\n      <td>0</td>\n      <td>0</td>\n      <td>0</td>\n      <td>0</td>\n      <td>0</td>\n      <td>0</td>\n      <td>0</td>\n      <td>0</td>\n      <td>0</td>\n      <td>0</td>\n    </tr>\n  </tbody>\n</table>\n<p>32561 rows × 14 columns</p>\n</div>"
     },
     "metadata": {},
     "execution_count": 24
    }
   ],
   "source": [
    "X_occupation_final"
   ]
  },
  {
   "cell_type": "code",
   "execution_count": 25,
   "metadata": {
    "tags": []
   },
   "outputs": [
    {
     "output_type": "stream",
     "name": "stdout",
     "text": "[' Not-in-family', ' Husband', ' Wife', ' Own-child', ' Unmarried', ' Other-relative']\n6\n"
    }
   ],
   "source": [
    "#relationship\n",
    "X_relationship = dataset.iloc[:,7]\n",
    "all_types_relationship = []\n",
    "for item in X_relationship:\n",
    "    if item in all_types_relationship:\n",
    "        pass\n",
    "    else:\n",
    "        all_types_relationship.append(item)\n",
    "print(all_types_relationship)\n",
    "print(len(all_types_relationship))"
   ]
  },
  {
   "cell_type": "code",
   "execution_count": 26,
   "metadata": {},
   "outputs": [
    {
     "output_type": "execute_result",
     "data": {
      "text/plain": "       REL: Husband  REL: Not-in-family  REL: Other-relative  REL: Own-child  \\\n0                 0                   1                    0               0   \n1                 1                   0                    0               0   \n2                 0                   1                    0               0   \n3                 1                   0                    0               0   \n4                 0                   0                    0               0   \n...             ...                 ...                  ...             ...   \n32556             0                   0                    0               0   \n32557             1                   0                    0               0   \n32558             0                   0                    0               0   \n32559             0                   0                    0               1   \n32560             0                   0                    0               0   \n\n       REL: Wife  \n0              0  \n1              0  \n2              0  \n3              0  \n4              1  \n...          ...  \n32556          1  \n32557          0  \n32558          0  \n32559          0  \n32560          1  \n\n[32561 rows x 5 columns]",
      "text/html": "<div>\n<style scoped>\n    .dataframe tbody tr th:only-of-type {\n        vertical-align: middle;\n    }\n\n    .dataframe tbody tr th {\n        vertical-align: top;\n    }\n\n    .dataframe thead th {\n        text-align: right;\n    }\n</style>\n<table border=\"1\" class=\"dataframe\">\n  <thead>\n    <tr style=\"text-align: right;\">\n      <th></th>\n      <th>REL: Husband</th>\n      <th>REL: Not-in-family</th>\n      <th>REL: Other-relative</th>\n      <th>REL: Own-child</th>\n      <th>REL: Wife</th>\n    </tr>\n  </thead>\n  <tbody>\n    <tr>\n      <th>0</th>\n      <td>0</td>\n      <td>1</td>\n      <td>0</td>\n      <td>0</td>\n      <td>0</td>\n    </tr>\n    <tr>\n      <th>1</th>\n      <td>1</td>\n      <td>0</td>\n      <td>0</td>\n      <td>0</td>\n      <td>0</td>\n    </tr>\n    <tr>\n      <th>2</th>\n      <td>0</td>\n      <td>1</td>\n      <td>0</td>\n      <td>0</td>\n      <td>0</td>\n    </tr>\n    <tr>\n      <th>3</th>\n      <td>1</td>\n      <td>0</td>\n      <td>0</td>\n      <td>0</td>\n      <td>0</td>\n    </tr>\n    <tr>\n      <th>4</th>\n      <td>0</td>\n      <td>0</td>\n      <td>0</td>\n      <td>0</td>\n      <td>1</td>\n    </tr>\n    <tr>\n      <th>...</th>\n      <td>...</td>\n      <td>...</td>\n      <td>...</td>\n      <td>...</td>\n      <td>...</td>\n    </tr>\n    <tr>\n      <th>32556</th>\n      <td>0</td>\n      <td>0</td>\n      <td>0</td>\n      <td>0</td>\n      <td>1</td>\n    </tr>\n    <tr>\n      <th>32557</th>\n      <td>1</td>\n      <td>0</td>\n      <td>0</td>\n      <td>0</td>\n      <td>0</td>\n    </tr>\n    <tr>\n      <th>32558</th>\n      <td>0</td>\n      <td>0</td>\n      <td>0</td>\n      <td>0</td>\n      <td>0</td>\n    </tr>\n    <tr>\n      <th>32559</th>\n      <td>0</td>\n      <td>0</td>\n      <td>0</td>\n      <td>1</td>\n      <td>0</td>\n    </tr>\n    <tr>\n      <th>32560</th>\n      <td>0</td>\n      <td>0</td>\n      <td>0</td>\n      <td>0</td>\n      <td>1</td>\n    </tr>\n  </tbody>\n</table>\n<p>32561 rows × 5 columns</p>\n</div>"
     },
     "metadata": {},
     "execution_count": 26
    }
   ],
   "source": [
    "X_relationship_dummies = pd.get_dummies(X_relationship)\n",
    "X_relationship_dummies = X_relationship_dummies.drop(columns=' Unmarried')\n",
    "X_relationship_final = X_relationship_dummies.rename(columns={' Not-in-family':'REL: Not-in-family',\n",
    "                                                              ' Husband':'REL: Husband',\n",
    "                                                              ' Wife':'REL: Wife',\n",
    "                                                              ' Own-child':'REL: Own-child',\n",
    "                                                              ' Other-relative':'REL: Other-relative',})\n",
    "X_relationship_final"
   ]
  },
  {
   "cell_type": "code",
   "execution_count": 27,
   "metadata": {
    "tags": []
   },
   "outputs": [
    {
     "output_type": "stream",
     "name": "stdout",
     "text": "[' White', ' Black', ' Asian-Pac-Islander', ' Amer-Indian-Eskimo', ' Other']\n5\n"
    }
   ],
   "source": [
    "#race\n",
    "X_race = dataset.iloc[:,8]\n",
    "all_types_race = []\n",
    "for item in X_race:\n",
    "    if item in all_types_race:\n",
    "        pass\n",
    "    else:\n",
    "        all_types_race.append(item)\n",
    "print(all_types_race)\n",
    "print(len(all_types_race))"
   ]
  },
  {
   "cell_type": "code",
   "execution_count": 28,
   "metadata": {},
   "outputs": [
    {
     "output_type": "execute_result",
     "data": {
      "text/plain": "       RACE: Amer-Indian-Eskimo  RACE: Asian-Pac-Islander  RACE: Black  \\\n0                             0                         0            0   \n1                             0                         0            0   \n2                             0                         0            0   \n3                             0                         0            1   \n4                             0                         0            1   \n...                         ...                       ...          ...   \n32556                         0                         0            0   \n32557                         0                         0            0   \n32558                         0                         0            0   \n32559                         0                         0            0   \n32560                         0                         0            0   \n\n       RACE: White  \n0                1  \n1                1  \n2                1  \n3                0  \n4                0  \n...            ...  \n32556            1  \n32557            1  \n32558            1  \n32559            1  \n32560            1  \n\n[32561 rows x 4 columns]",
      "text/html": "<div>\n<style scoped>\n    .dataframe tbody tr th:only-of-type {\n        vertical-align: middle;\n    }\n\n    .dataframe tbody tr th {\n        vertical-align: top;\n    }\n\n    .dataframe thead th {\n        text-align: right;\n    }\n</style>\n<table border=\"1\" class=\"dataframe\">\n  <thead>\n    <tr style=\"text-align: right;\">\n      <th></th>\n      <th>RACE: Amer-Indian-Eskimo</th>\n      <th>RACE: Asian-Pac-Islander</th>\n      <th>RACE: Black</th>\n      <th>RACE: White</th>\n    </tr>\n  </thead>\n  <tbody>\n    <tr>\n      <th>0</th>\n      <td>0</td>\n      <td>0</td>\n      <td>0</td>\n      <td>1</td>\n    </tr>\n    <tr>\n      <th>1</th>\n      <td>0</td>\n      <td>0</td>\n      <td>0</td>\n      <td>1</td>\n    </tr>\n    <tr>\n      <th>2</th>\n      <td>0</td>\n      <td>0</td>\n      <td>0</td>\n      <td>1</td>\n    </tr>\n    <tr>\n      <th>3</th>\n      <td>0</td>\n      <td>0</td>\n      <td>1</td>\n      <td>0</td>\n    </tr>\n    <tr>\n      <th>4</th>\n      <td>0</td>\n      <td>0</td>\n      <td>1</td>\n      <td>0</td>\n    </tr>\n    <tr>\n      <th>...</th>\n      <td>...</td>\n      <td>...</td>\n      <td>...</td>\n      <td>...</td>\n    </tr>\n    <tr>\n      <th>32556</th>\n      <td>0</td>\n      <td>0</td>\n      <td>0</td>\n      <td>1</td>\n    </tr>\n    <tr>\n      <th>32557</th>\n      <td>0</td>\n      <td>0</td>\n      <td>0</td>\n      <td>1</td>\n    </tr>\n    <tr>\n      <th>32558</th>\n      <td>0</td>\n      <td>0</td>\n      <td>0</td>\n      <td>1</td>\n    </tr>\n    <tr>\n      <th>32559</th>\n      <td>0</td>\n      <td>0</td>\n      <td>0</td>\n      <td>1</td>\n    </tr>\n    <tr>\n      <th>32560</th>\n      <td>0</td>\n      <td>0</td>\n      <td>0</td>\n      <td>1</td>\n    </tr>\n  </tbody>\n</table>\n<p>32561 rows × 4 columns</p>\n</div>"
     },
     "metadata": {},
     "execution_count": 28
    }
   ],
   "source": [
    "X_race_dummies = pd.get_dummies(X_race)\n",
    "X_race_dummies = X_race_dummies.drop(columns=' Other')\n",
    "X_race_final = X_race_dummies.rename(columns={' White':'RACE: White',\n",
    "                                              ' Black':'RACE: Black',\n",
    "                                              ' Asian-Pac-Islander':'RACE: Asian-Pac-Islander',\n",
    "                                              ' Amer-Indian-Eskimo':'RACE: Amer-Indian-Eskimo'})\n",
    "X_race_final"
   ]
  },
  {
   "cell_type": "code",
   "execution_count": 29,
   "metadata": {
    "tags": []
   },
   "outputs": [
    {
     "output_type": "stream",
     "name": "stdout",
     "text": "[' Male', ' Female']\n2\n"
    }
   ],
   "source": [
    "#sex\n",
    "X_sex = dataset.iloc[:,9]\n",
    "all_types_sex = []\n",
    "for item in X_sex:\n",
    "    if item in all_types_sex:\n",
    "        pass\n",
    "    else:\n",
    "        all_types_sex.append(item)\n",
    "print(all_types_sex)\n",
    "print(len(all_types_sex))"
   ]
  },
  {
   "cell_type": "code",
   "execution_count": 30,
   "metadata": {},
   "outputs": [
    {
     "output_type": "execute_result",
     "data": {
      "text/plain": "       SEX: Female\n0                0\n1                0\n2                0\n3                0\n4                1\n...            ...\n32556            1\n32557            0\n32558            1\n32559            0\n32560            1\n\n[32561 rows x 1 columns]",
      "text/html": "<div>\n<style scoped>\n    .dataframe tbody tr th:only-of-type {\n        vertical-align: middle;\n    }\n\n    .dataframe tbody tr th {\n        vertical-align: top;\n    }\n\n    .dataframe thead th {\n        text-align: right;\n    }\n</style>\n<table border=\"1\" class=\"dataframe\">\n  <thead>\n    <tr style=\"text-align: right;\">\n      <th></th>\n      <th>SEX: Female</th>\n    </tr>\n  </thead>\n  <tbody>\n    <tr>\n      <th>0</th>\n      <td>0</td>\n    </tr>\n    <tr>\n      <th>1</th>\n      <td>0</td>\n    </tr>\n    <tr>\n      <th>2</th>\n      <td>0</td>\n    </tr>\n    <tr>\n      <th>3</th>\n      <td>0</td>\n    </tr>\n    <tr>\n      <th>4</th>\n      <td>1</td>\n    </tr>\n    <tr>\n      <th>...</th>\n      <td>...</td>\n    </tr>\n    <tr>\n      <th>32556</th>\n      <td>1</td>\n    </tr>\n    <tr>\n      <th>32557</th>\n      <td>0</td>\n    </tr>\n    <tr>\n      <th>32558</th>\n      <td>1</td>\n    </tr>\n    <tr>\n      <th>32559</th>\n      <td>0</td>\n    </tr>\n    <tr>\n      <th>32560</th>\n      <td>1</td>\n    </tr>\n  </tbody>\n</table>\n<p>32561 rows × 1 columns</p>\n</div>"
     },
     "metadata": {},
     "execution_count": 30
    }
   ],
   "source": [
    "X_sex_dummies = pd.get_dummies(X_sex)\n",
    "X_sex_dummies = X_sex_dummies.drop(columns=' Male')\n",
    "X_sex_final = X_sex_dummies.rename(columns={' Female':'SEX: Female'})\n",
    "X_sex_final"
   ]
  },
  {
   "cell_type": "code",
   "execution_count": 31,
   "metadata": {},
   "outputs": [
    {
     "output_type": "execute_result",
     "data": {
      "text/plain": "0         2174\n1            0\n2            0\n3            0\n4            0\n         ...  \n32556        0\n32557        0\n32558        0\n32559        0\n32560    15024\nName:  capital-gain, Length: 32561, dtype: int64"
     },
     "metadata": {},
     "execution_count": 31
    }
   ],
   "source": [
    "# capital gain\n",
    "X_capital_gain_final = dataset.iloc[:,10]\n",
    "X_capital_gain_final"
   ]
  },
  {
   "cell_type": "code",
   "execution_count": 32,
   "metadata": {},
   "outputs": [
    {
     "output_type": "execute_result",
     "data": {
      "text/plain": "0        0\n1        0\n2        0\n3        0\n4        0\n        ..\n32556    0\n32557    0\n32558    0\n32559    0\n32560    0\nName:  capital-loss, Length: 32561, dtype: int64"
     },
     "metadata": {},
     "execution_count": 32
    }
   ],
   "source": [
    "# capital loss\n",
    "X_capital_loss_final = dataset.iloc[:,11]\n",
    "X_capital_loss_final"
   ]
  },
  {
   "cell_type": "code",
   "execution_count": 33,
   "metadata": {},
   "outputs": [
    {
     "output_type": "execute_result",
     "data": {
      "text/plain": "0        40\n1        13\n2        40\n3        40\n4        40\n         ..\n32556    38\n32557    40\n32558    40\n32559    20\n32560    40\nName:  hours-per-week, Length: 32561, dtype: int64"
     },
     "metadata": {},
     "execution_count": 33
    }
   ],
   "source": [
    "# hours per week\n",
    "X_hours_per_week = dataset.iloc[:,12]\n",
    "X_hours_per_week"
   ]
  },
  {
   "cell_type": "code",
   "execution_count": 34,
   "metadata": {
    "tags": []
   },
   "outputs": [
    {
     "output_type": "stream",
     "name": "stdout",
     "text": "[' United-States', ' Cuba', ' Jamaica', ' India', ' ?', ' Mexico', ' South', ' Puerto-Rico', ' Honduras', ' England', ' Canada', ' Germany', ' Iran', ' Philippines', ' Italy', ' Poland', ' Columbia', ' Cambodia', ' Thailand', ' Ecuador', ' Laos', ' Taiwan', ' Haiti', ' Portugal', ' Dominican-Republic', ' El-Salvador', ' France', ' Guatemala', ' China', ' Japan', ' Yugoslavia', ' Peru', ' Outlying-US(Guam-USVI-etc)', ' Scotland', ' Trinadad&Tobago', ' Greece', ' Nicaragua', ' Vietnam', ' Hong', ' Ireland', ' Hungary', ' Holand-Netherlands']\n42\n"
    }
   ],
   "source": [
    "# native country\n",
    "X_native_country = dataset.iloc[:,13]\n",
    "all_types_native_country = []\n",
    "for item in X_native_country:\n",
    "    if item in all_types_native_country:\n",
    "        pass\n",
    "    else:\n",
    "        all_types_native_country.append(item)\n",
    "print(all_types_native_country)\n",
    "print(len(all_types_native_country))"
   ]
  },
  {
   "cell_type": "code",
   "execution_count": 35,
   "metadata": {},
   "outputs": [
    {
     "output_type": "execute_result",
     "data": {
      "text/plain": "       CNT:  Cambodia  CNT:  Canada  CNT:  China  CNT:  Columbia  CNT:  Cuba  \\\n0                   0             0            0               0           0   \n1                   0             0            0               0           0   \n2                   0             0            0               0           0   \n3                   0             0            0               0           0   \n4                   0             0            0               0           1   \n...               ...           ...          ...             ...         ...   \n32556               0             0            0               0           0   \n32557               0             0            0               0           0   \n32558               0             0            0               0           0   \n32559               0             0            0               0           0   \n32560               0             0            0               0           0   \n\n       CNT:  Dominican-Republic  CNT:  Ecuador  CNT:  El-Salvador  \\\n0                             0              0                  0   \n1                             0              0                  0   \n2                             0              0                  0   \n3                             0              0                  0   \n4                             0              0                  0   \n...                         ...            ...                ...   \n32556                         0              0                  0   \n32557                         0              0                  0   \n32558                         0              0                  0   \n32559                         0              0                  0   \n32560                         0              0                  0   \n\n       CNT:  England  CNT:  France  ...  CNT:  Portugal  CNT:  Puerto-Rico  \\\n0                  0             0  ...               0                  0   \n1                  0             0  ...               0                  0   \n2                  0             0  ...               0                  0   \n3                  0             0  ...               0                  0   \n4                  0             0  ...               0                  0   \n...              ...           ...  ...             ...                ...   \n32556              0             0  ...               0                  0   \n32557              0             0  ...               0                  0   \n32558              0             0  ...               0                  0   \n32559              0             0  ...               0                  0   \n32560              0             0  ...               0                  0   \n\n       CNT:  Scotland  CNT:  South  CNT:  Taiwan  CNT:  Thailand  \\\n0                   0            0             0               0   \n1                   0            0             0               0   \n2                   0            0             0               0   \n3                   0            0             0               0   \n4                   0            0             0               0   \n...               ...          ...           ...             ...   \n32556               0            0             0               0   \n32557               0            0             0               0   \n32558               0            0             0               0   \n32559               0            0             0               0   \n32560               0            0             0               0   \n\n       CNT:  Trinadad&Tobago  CNT:  United-States  CNT:  Vietnam  \\\n0                          0                    1              0   \n1                          0                    1              0   \n2                          0                    1              0   \n3                          0                    1              0   \n4                          0                    0              0   \n...                      ...                  ...            ...   \n32556                      0                    1              0   \n32557                      0                    1              0   \n32558                      0                    1              0   \n32559                      0                    1              0   \n32560                      0                    1              0   \n\n       CNT:  Yugoslavia  \n0                     0  \n1                     0  \n2                     0  \n3                     0  \n4                     0  \n...                 ...  \n32556                 0  \n32557                 0  \n32558                 0  \n32559                 0  \n32560                 0  \n\n[32561 rows x 41 columns]",
      "text/html": "<div>\n<style scoped>\n    .dataframe tbody tr th:only-of-type {\n        vertical-align: middle;\n    }\n\n    .dataframe tbody tr th {\n        vertical-align: top;\n    }\n\n    .dataframe thead th {\n        text-align: right;\n    }\n</style>\n<table border=\"1\" class=\"dataframe\">\n  <thead>\n    <tr style=\"text-align: right;\">\n      <th></th>\n      <th>CNT:  Cambodia</th>\n      <th>CNT:  Canada</th>\n      <th>CNT:  China</th>\n      <th>CNT:  Columbia</th>\n      <th>CNT:  Cuba</th>\n      <th>CNT:  Dominican-Republic</th>\n      <th>CNT:  Ecuador</th>\n      <th>CNT:  El-Salvador</th>\n      <th>CNT:  England</th>\n      <th>CNT:  France</th>\n      <th>...</th>\n      <th>CNT:  Portugal</th>\n      <th>CNT:  Puerto-Rico</th>\n      <th>CNT:  Scotland</th>\n      <th>CNT:  South</th>\n      <th>CNT:  Taiwan</th>\n      <th>CNT:  Thailand</th>\n      <th>CNT:  Trinadad&amp;Tobago</th>\n      <th>CNT:  United-States</th>\n      <th>CNT:  Vietnam</th>\n      <th>CNT:  Yugoslavia</th>\n    </tr>\n  </thead>\n  <tbody>\n    <tr>\n      <th>0</th>\n      <td>0</td>\n      <td>0</td>\n      <td>0</td>\n      <td>0</td>\n      <td>0</td>\n      <td>0</td>\n      <td>0</td>\n      <td>0</td>\n      <td>0</td>\n      <td>0</td>\n      <td>...</td>\n      <td>0</td>\n      <td>0</td>\n      <td>0</td>\n      <td>0</td>\n      <td>0</td>\n      <td>0</td>\n      <td>0</td>\n      <td>1</td>\n      <td>0</td>\n      <td>0</td>\n    </tr>\n    <tr>\n      <th>1</th>\n      <td>0</td>\n      <td>0</td>\n      <td>0</td>\n      <td>0</td>\n      <td>0</td>\n      <td>0</td>\n      <td>0</td>\n      <td>0</td>\n      <td>0</td>\n      <td>0</td>\n      <td>...</td>\n      <td>0</td>\n      <td>0</td>\n      <td>0</td>\n      <td>0</td>\n      <td>0</td>\n      <td>0</td>\n      <td>0</td>\n      <td>1</td>\n      <td>0</td>\n      <td>0</td>\n    </tr>\n    <tr>\n      <th>2</th>\n      <td>0</td>\n      <td>0</td>\n      <td>0</td>\n      <td>0</td>\n      <td>0</td>\n      <td>0</td>\n      <td>0</td>\n      <td>0</td>\n      <td>0</td>\n      <td>0</td>\n      <td>...</td>\n      <td>0</td>\n      <td>0</td>\n      <td>0</td>\n      <td>0</td>\n      <td>0</td>\n      <td>0</td>\n      <td>0</td>\n      <td>1</td>\n      <td>0</td>\n      <td>0</td>\n    </tr>\n    <tr>\n      <th>3</th>\n      <td>0</td>\n      <td>0</td>\n      <td>0</td>\n      <td>0</td>\n      <td>0</td>\n      <td>0</td>\n      <td>0</td>\n      <td>0</td>\n      <td>0</td>\n      <td>0</td>\n      <td>...</td>\n      <td>0</td>\n      <td>0</td>\n      <td>0</td>\n      <td>0</td>\n      <td>0</td>\n      <td>0</td>\n      <td>0</td>\n      <td>1</td>\n      <td>0</td>\n      <td>0</td>\n    </tr>\n    <tr>\n      <th>4</th>\n      <td>0</td>\n      <td>0</td>\n      <td>0</td>\n      <td>0</td>\n      <td>1</td>\n      <td>0</td>\n      <td>0</td>\n      <td>0</td>\n      <td>0</td>\n      <td>0</td>\n      <td>...</td>\n      <td>0</td>\n      <td>0</td>\n      <td>0</td>\n      <td>0</td>\n      <td>0</td>\n      <td>0</td>\n      <td>0</td>\n      <td>0</td>\n      <td>0</td>\n      <td>0</td>\n    </tr>\n    <tr>\n      <th>...</th>\n      <td>...</td>\n      <td>...</td>\n      <td>...</td>\n      <td>...</td>\n      <td>...</td>\n      <td>...</td>\n      <td>...</td>\n      <td>...</td>\n      <td>...</td>\n      <td>...</td>\n      <td>...</td>\n      <td>...</td>\n      <td>...</td>\n      <td>...</td>\n      <td>...</td>\n      <td>...</td>\n      <td>...</td>\n      <td>...</td>\n      <td>...</td>\n      <td>...</td>\n      <td>...</td>\n    </tr>\n    <tr>\n      <th>32556</th>\n      <td>0</td>\n      <td>0</td>\n      <td>0</td>\n      <td>0</td>\n      <td>0</td>\n      <td>0</td>\n      <td>0</td>\n      <td>0</td>\n      <td>0</td>\n      <td>0</td>\n      <td>...</td>\n      <td>0</td>\n      <td>0</td>\n      <td>0</td>\n      <td>0</td>\n      <td>0</td>\n      <td>0</td>\n      <td>0</td>\n      <td>1</td>\n      <td>0</td>\n      <td>0</td>\n    </tr>\n    <tr>\n      <th>32557</th>\n      <td>0</td>\n      <td>0</td>\n      <td>0</td>\n      <td>0</td>\n      <td>0</td>\n      <td>0</td>\n      <td>0</td>\n      <td>0</td>\n      <td>0</td>\n      <td>0</td>\n      <td>...</td>\n      <td>0</td>\n      <td>0</td>\n      <td>0</td>\n      <td>0</td>\n      <td>0</td>\n      <td>0</td>\n      <td>0</td>\n      <td>1</td>\n      <td>0</td>\n      <td>0</td>\n    </tr>\n    <tr>\n      <th>32558</th>\n      <td>0</td>\n      <td>0</td>\n      <td>0</td>\n      <td>0</td>\n      <td>0</td>\n      <td>0</td>\n      <td>0</td>\n      <td>0</td>\n      <td>0</td>\n      <td>0</td>\n      <td>...</td>\n      <td>0</td>\n      <td>0</td>\n      <td>0</td>\n      <td>0</td>\n      <td>0</td>\n      <td>0</td>\n      <td>0</td>\n      <td>1</td>\n      <td>0</td>\n      <td>0</td>\n    </tr>\n    <tr>\n      <th>32559</th>\n      <td>0</td>\n      <td>0</td>\n      <td>0</td>\n      <td>0</td>\n      <td>0</td>\n      <td>0</td>\n      <td>0</td>\n      <td>0</td>\n      <td>0</td>\n      <td>0</td>\n      <td>...</td>\n      <td>0</td>\n      <td>0</td>\n      <td>0</td>\n      <td>0</td>\n      <td>0</td>\n      <td>0</td>\n      <td>0</td>\n      <td>1</td>\n      <td>0</td>\n      <td>0</td>\n    </tr>\n    <tr>\n      <th>32560</th>\n      <td>0</td>\n      <td>0</td>\n      <td>0</td>\n      <td>0</td>\n      <td>0</td>\n      <td>0</td>\n      <td>0</td>\n      <td>0</td>\n      <td>0</td>\n      <td>0</td>\n      <td>...</td>\n      <td>0</td>\n      <td>0</td>\n      <td>0</td>\n      <td>0</td>\n      <td>0</td>\n      <td>0</td>\n      <td>0</td>\n      <td>1</td>\n      <td>0</td>\n      <td>0</td>\n    </tr>\n  </tbody>\n</table>\n<p>32561 rows × 41 columns</p>\n</div>"
     },
     "metadata": {},
     "execution_count": 35
    }
   ],
   "source": [
    "X_native_country_dummies = pd.get_dummies(X_native_country)\n",
    "X_native_country_dummies = X_native_country_dummies.drop(columns=' ?')\n",
    "for item in all_types_native_country:\n",
    "    temp = 'CNT: ' + item\n",
    "    X_native_country_dummies = X_native_country_dummies.rename(columns={item : temp})\n",
    "X_native_country_final = X_native_country_dummies\n",
    "X_native_country_final"
   ]
  },
  {
   "cell_type": "code",
   "execution_count": 36,
   "metadata": {},
   "outputs": [],
   "source": [
    "# what happened above is a shame XD!\n",
    "# if you followed the code you will understand what happened just don't mention it plz XD!\n",
    "# (For those who didnt understand i realized there is a better way to rename the columns! XD)"
   ]
  },
  {
   "cell_type": "code",
   "execution_count": 37,
   "metadata": {},
   "outputs": [
    {
     "output_type": "execute_result",
     "data": {
      "text/plain": "        <=50K   >50K\n0           1      0\n1           1      0\n2           1      0\n3           1      0\n4           1      0\n...       ...    ...\n32556       1      0\n32557       0      1\n32558       1      0\n32559       1      0\n32560       0      1\n\n[32561 rows x 2 columns]",
      "text/html": "<div>\n<style scoped>\n    .dataframe tbody tr th:only-of-type {\n        vertical-align: middle;\n    }\n\n    .dataframe tbody tr th {\n        vertical-align: top;\n    }\n\n    .dataframe thead th {\n        text-align: right;\n    }\n</style>\n<table border=\"1\" class=\"dataframe\">\n  <thead>\n    <tr style=\"text-align: right;\">\n      <th></th>\n      <th>&lt;=50K</th>\n      <th>&gt;50K</th>\n    </tr>\n  </thead>\n  <tbody>\n    <tr>\n      <th>0</th>\n      <td>1</td>\n      <td>0</td>\n    </tr>\n    <tr>\n      <th>1</th>\n      <td>1</td>\n      <td>0</td>\n    </tr>\n    <tr>\n      <th>2</th>\n      <td>1</td>\n      <td>0</td>\n    </tr>\n    <tr>\n      <th>3</th>\n      <td>1</td>\n      <td>0</td>\n    </tr>\n    <tr>\n      <th>4</th>\n      <td>1</td>\n      <td>0</td>\n    </tr>\n    <tr>\n      <th>...</th>\n      <td>...</td>\n      <td>...</td>\n    </tr>\n    <tr>\n      <th>32556</th>\n      <td>1</td>\n      <td>0</td>\n    </tr>\n    <tr>\n      <th>32557</th>\n      <td>0</td>\n      <td>1</td>\n    </tr>\n    <tr>\n      <th>32558</th>\n      <td>1</td>\n      <td>0</td>\n    </tr>\n    <tr>\n      <th>32559</th>\n      <td>1</td>\n      <td>0</td>\n    </tr>\n    <tr>\n      <th>32560</th>\n      <td>0</td>\n      <td>1</td>\n    </tr>\n  </tbody>\n</table>\n<p>32561 rows × 2 columns</p>\n</div>"
     },
     "metadata": {},
     "execution_count": 37
    }
   ],
   "source": [
    "y = dataset.iloc[:,14]\n",
    "y_dummies = pd.get_dummies(y)\n",
    "y_dummies"
   ]
  },
  {
   "cell_type": "code",
   "execution_count": 38,
   "metadata": {},
   "outputs": [
    {
     "output_type": "execute_result",
     "data": {
      "text/plain": "       SALARY: <=50K\n0                  1\n1                  1\n2                  1\n3                  1\n4                  1\n...              ...\n32556              1\n32557              0\n32558              1\n32559              1\n32560              0\n\n[32561 rows x 1 columns]",
      "text/html": "<div>\n<style scoped>\n    .dataframe tbody tr th:only-of-type {\n        vertical-align: middle;\n    }\n\n    .dataframe tbody tr th {\n        vertical-align: top;\n    }\n\n    .dataframe thead th {\n        text-align: right;\n    }\n</style>\n<table border=\"1\" class=\"dataframe\">\n  <thead>\n    <tr style=\"text-align: right;\">\n      <th></th>\n      <th>SALARY: &lt;=50K</th>\n    </tr>\n  </thead>\n  <tbody>\n    <tr>\n      <th>0</th>\n      <td>1</td>\n    </tr>\n    <tr>\n      <th>1</th>\n      <td>1</td>\n    </tr>\n    <tr>\n      <th>2</th>\n      <td>1</td>\n    </tr>\n    <tr>\n      <th>3</th>\n      <td>1</td>\n    </tr>\n    <tr>\n      <th>4</th>\n      <td>1</td>\n    </tr>\n    <tr>\n      <th>...</th>\n      <td>...</td>\n    </tr>\n    <tr>\n      <th>32556</th>\n      <td>1</td>\n    </tr>\n    <tr>\n      <th>32557</th>\n      <td>0</td>\n    </tr>\n    <tr>\n      <th>32558</th>\n      <td>1</td>\n    </tr>\n    <tr>\n      <th>32559</th>\n      <td>1</td>\n    </tr>\n    <tr>\n      <th>32560</th>\n      <td>0</td>\n    </tr>\n  </tbody>\n</table>\n<p>32561 rows × 1 columns</p>\n</div>"
     },
     "metadata": {},
     "execution_count": 38
    }
   ],
   "source": [
    "y_dummies = y_dummies.drop(columns=' >50K')\n",
    "y_final = y_dummies.rename(columns={' <=50K': 'SALARY: <=50K'})\n",
    "y_final"
   ]
  },
  {
   "cell_type": "code",
   "execution_count": 39,
   "metadata": {},
   "outputs": [],
   "source": [
    "# all datas are in numerical now its time to feature scaling\n",
    "# i apply feature s' X_capital_loss_final' : X_capital_loss_final"
   ]
  },
  {
   "cell_type": "code",
   "execution_count": 40,
   "metadata": {},
   "outputs": [],
   "source": [
    "from sklearn.preprocessing import StandardScaler\n",
    "sc = StandardScaler()\n",
    "X_capital_gain_final = sc.fit_transform(X_capital_gain_final.values.reshape(-1,1)).flatten()\n",
    "X_capital_loss_final = sc.fit_transform(X_capital_loss_final.values.reshape(-1,1)).flatten()"
   ]
  },
  {
   "cell_type": "code",
   "execution_count": 41,
   "metadata": {},
   "outputs": [],
   "source": [
    "X_capital_gain_final = pd.DataFrame({' X_capital_gain_final' : X_capital_gain_final})\n",
    "X_capital_loss_final = pd.DataFrame({' X_capital_loss_final' : X_capital_loss_final})"
   ]
  },
  {
   "cell_type": "code",
   "execution_count": 42,
   "metadata": {},
   "outputs": [
    {
     "output_type": "execute_result",
     "data": {
      "text/plain": "        X_capital_gain_final\n0                   0.148453\n1                  -0.145920\n2                  -0.145920\n3                  -0.145920\n4                  -0.145920\n...                      ...\n32556              -0.145920\n32557              -0.145920\n32558              -0.145920\n32559              -0.145920\n32560               1.888424\n\n[32561 rows x 1 columns]",
      "text/html": "<div>\n<style scoped>\n    .dataframe tbody tr th:only-of-type {\n        vertical-align: middle;\n    }\n\n    .dataframe tbody tr th {\n        vertical-align: top;\n    }\n\n    .dataframe thead th {\n        text-align: right;\n    }\n</style>\n<table border=\"1\" class=\"dataframe\">\n  <thead>\n    <tr style=\"text-align: right;\">\n      <th></th>\n      <th>X_capital_gain_final</th>\n    </tr>\n  </thead>\n  <tbody>\n    <tr>\n      <th>0</th>\n      <td>0.148453</td>\n    </tr>\n    <tr>\n      <th>1</th>\n      <td>-0.145920</td>\n    </tr>\n    <tr>\n      <th>2</th>\n      <td>-0.145920</td>\n    </tr>\n    <tr>\n      <th>3</th>\n      <td>-0.145920</td>\n    </tr>\n    <tr>\n      <th>4</th>\n      <td>-0.145920</td>\n    </tr>\n    <tr>\n      <th>...</th>\n      <td>...</td>\n    </tr>\n    <tr>\n      <th>32556</th>\n      <td>-0.145920</td>\n    </tr>\n    <tr>\n      <th>32557</th>\n      <td>-0.145920</td>\n    </tr>\n    <tr>\n      <th>32558</th>\n      <td>-0.145920</td>\n    </tr>\n    <tr>\n      <th>32559</th>\n      <td>-0.145920</td>\n    </tr>\n    <tr>\n      <th>32560</th>\n      <td>1.888424</td>\n    </tr>\n  </tbody>\n</table>\n<p>32561 rows × 1 columns</p>\n</div>"
     },
     "metadata": {},
     "execution_count": 42
    }
   ],
   "source": [
    "X_capital_gain_final"
   ]
  },
  {
   "cell_type": "code",
   "execution_count": 43,
   "metadata": {},
   "outputs": [
    {
     "output_type": "execute_result",
     "data": {
      "text/plain": "        X_capital_loss_final\n0                   -0.21666\n1                   -0.21666\n2                   -0.21666\n3                   -0.21666\n4                   -0.21666\n...                      ...\n32556               -0.21666\n32557               -0.21666\n32558               -0.21666\n32559               -0.21666\n32560               -0.21666\n\n[32561 rows x 1 columns]",
      "text/html": "<div>\n<style scoped>\n    .dataframe tbody tr th:only-of-type {\n        vertical-align: middle;\n    }\n\n    .dataframe tbody tr th {\n        vertical-align: top;\n    }\n\n    .dataframe thead th {\n        text-align: right;\n    }\n</style>\n<table border=\"1\" class=\"dataframe\">\n  <thead>\n    <tr style=\"text-align: right;\">\n      <th></th>\n      <th>X_capital_loss_final</th>\n    </tr>\n  </thead>\n  <tbody>\n    <tr>\n      <th>0</th>\n      <td>-0.21666</td>\n    </tr>\n    <tr>\n      <th>1</th>\n      <td>-0.21666</td>\n    </tr>\n    <tr>\n      <th>2</th>\n      <td>-0.21666</td>\n    </tr>\n    <tr>\n      <th>3</th>\n      <td>-0.21666</td>\n    </tr>\n    <tr>\n      <th>4</th>\n      <td>-0.21666</td>\n    </tr>\n    <tr>\n      <th>...</th>\n      <td>...</td>\n    </tr>\n    <tr>\n      <th>32556</th>\n      <td>-0.21666</td>\n    </tr>\n    <tr>\n      <th>32557</th>\n      <td>-0.21666</td>\n    </tr>\n    <tr>\n      <th>32558</th>\n      <td>-0.21666</td>\n    </tr>\n    <tr>\n      <th>32559</th>\n      <td>-0.21666</td>\n    </tr>\n    <tr>\n      <th>32560</th>\n      <td>-0.21666</td>\n    </tr>\n  </tbody>\n</table>\n<p>32561 rows × 1 columns</p>\n</div>"
     },
     "metadata": {},
     "execution_count": 43
    }
   ],
   "source": [
    "X_capital_loss_final"
   ]
  },
  {
   "cell_type": "code",
   "execution_count": 44,
   "metadata": {
    "tags": []
   },
   "outputs": [],
   "source": [
    "concat_col = [X_age_final,X_workclass_final,X_education_final,X_marital_status_final,X_occupation_final,X_relationship_final,X_race_final,X_sex_final,X_capital_gain_final,X_capital_loss_final,X_hours_per_week,X_native_country_final]"
   ]
  },
  {
   "cell_type": "code",
   "execution_count": 45,
   "metadata": {},
   "outputs": [],
   "source": [
    "X = pd.concat(concat_col,axis=1)"
   ]
  },
  {
   "cell_type": "code",
   "execution_count": 46,
   "metadata": {},
   "outputs": [],
   "source": [
    "X = X.iloc[:,:].values"
   ]
  },
  {
   "cell_type": "code",
   "execution_count": 47,
   "metadata": {},
   "outputs": [
    {
     "output_type": "execute_result",
     "data": {
      "text/plain": "array([[39.,  0.,  0., ...,  1.,  0.,  0.],\n       [50.,  0.,  0., ...,  1.,  0.,  0.],\n       [38.,  0.,  0., ...,  1.,  0.,  0.],\n       ...,\n       [58.,  0.,  0., ...,  1.,  0.,  0.],\n       [22.,  0.,  0., ...,  1.,  0.,  0.],\n       [52.,  0.,  0., ...,  1.,  0.,  0.]])"
     },
     "metadata": {},
     "execution_count": 47
    }
   ],
   "source": [
    "X"
   ]
  },
  {
   "cell_type": "code",
   "execution_count": 48,
   "metadata": {},
   "outputs": [],
   "source": [
    "y = y_final.iloc[:,:].values"
   ]
  },
  {
   "cell_type": "code",
   "execution_count": 49,
   "metadata": {},
   "outputs": [
    {
     "output_type": "execute_result",
     "data": {
      "text/plain": "array([[1],\n       [1],\n       [1],\n       ...,\n       [1],\n       [1],\n       [0]], dtype=uint8)"
     },
     "metadata": {},
     "execution_count": 49
    }
   ],
   "source": [
    "y"
   ]
  },
  {
   "cell_type": "code",
   "execution_count": 50,
   "metadata": {},
   "outputs": [],
   "source": [
    "from sklearn.model_selection import train_test_split\n",
    "X_train, X_test, y_train, y_test = train_test_split(X,y,test_size = 0.2,random_state = 0)"
   ]
  },
  {
   "cell_type": "code",
   "execution_count": 51,
   "metadata": {},
   "outputs": [],
   "source": [
    "# classification models"
   ]
  },
  {
   "cell_type": "code",
   "execution_count": 52,
   "metadata": {},
   "outputs": [
    {
     "output_type": "execute_result",
     "data": {
      "text/plain": "LogisticRegression(random_state=0)"
     },
     "metadata": {},
     "execution_count": 52
    }
   ],
   "source": [
    "# Linear Regression\n",
    "from sklearn.linear_model import LogisticRegression\n",
    "clf_lr = LogisticRegression(random_state = 0)\n",
    "clf_lr.fit(X_train,y_train)"
   ]
  },
  {
   "cell_type": "code",
   "execution_count": 53,
   "metadata": {},
   "outputs": [],
   "source": [
    "y_pred_lr = clf_lr.predict(X_test)"
   ]
  },
  {
   "cell_type": "code",
   "execution_count": 54,
   "metadata": {},
   "outputs": [
    {
     "output_type": "execute_result",
     "data": {
      "text/plain": "0.8447719944725933"
     },
     "metadata": {},
     "execution_count": 54
    }
   ],
   "source": [
    "clf_lr.score(X_test,y_test)"
   ]
  },
  {
   "cell_type": "code",
   "execution_count": 55,
   "metadata": {},
   "outputs": [
    {
     "output_type": "execute_result",
     "data": {
      "text/plain": "array([[ 968,  627],\n       [ 384, 4534]], dtype=int64)"
     },
     "metadata": {},
     "execution_count": 55
    }
   ],
   "source": [
    "from sklearn.metrics import confusion_matrix\n",
    "cm_lr = confusion_matrix(y_test,y_pred_lr)\n",
    "cm_lr"
   ]
  },
  {
   "cell_type": "code",
   "execution_count": 56,
   "metadata": {},
   "outputs": [
    {
     "output_type": "execute_result",
     "data": {
      "text/plain": "KNeighborsClassifier()"
     },
     "metadata": {},
     "execution_count": 56
    }
   ],
   "source": [
    "#KNN\n",
    "from sklearn.neighbors import KNeighborsClassifier\n",
    "knn_clf = KNeighborsClassifier(n_neighbors=5,metric='minkowski',p=2)\n",
    "knn_clf.fit(X_train,y_train)"
   ]
  },
  {
   "cell_type": "code",
   "execution_count": 57,
   "metadata": {},
   "outputs": [],
   "source": [
    "y_pred_knn = knn_clf.predict(X_test)"
   ]
  },
  {
   "cell_type": "code",
   "execution_count": 58,
   "metadata": {},
   "outputs": [
    {
     "output_type": "execute_result",
     "data": {
      "text/plain": "0.8080761553815446"
     },
     "metadata": {},
     "execution_count": 58
    }
   ],
   "source": [
    "knn_clf.score(X_test,y_test)"
   ]
  },
  {
   "cell_type": "code",
   "execution_count": 59,
   "metadata": {},
   "outputs": [
    {
     "output_type": "execute_result",
     "data": {
      "text/plain": "array([[ 849,  746],\n       [ 504, 4414]], dtype=int64)"
     },
     "metadata": {},
     "execution_count": 59
    }
   ],
   "source": [
    "cm_knn = confusion_matrix(y_test,y_pred_knn)\n",
    "cm_knn"
   ]
  },
  {
   "cell_type": "code",
   "execution_count": 60,
   "metadata": {},
   "outputs": [
    {
     "output_type": "execute_result",
     "data": {
      "text/plain": "SVC(kernel='linear', random_state=0)"
     },
     "metadata": {},
     "execution_count": 60
    }
   ],
   "source": [
    "#SVM linear\n",
    "from sklearn.svm import SVC\n",
    "svc_lr_clf = SVC(kernel='linear',random_state=0)\n",
    "svc_lr_clf.fit(X_train,y_train)"
   ]
  },
  {
   "cell_type": "code",
   "execution_count": 61,
   "metadata": {},
   "outputs": [],
   "source": [
    "y_pred_svc_lr = svc_lr_clf.predict(X_test)"
   ]
  },
  {
   "cell_type": "code",
   "execution_count": 62,
   "metadata": {},
   "outputs": [
    {
     "output_type": "execute_result",
     "data": {
      "text/plain": "0.8458467680024566"
     },
     "metadata": {},
     "execution_count": 62
    }
   ],
   "source": [
    "svc_lr_clf.score(X_test,y_test)"
   ]
  },
  {
   "cell_type": "code",
   "execution_count": 63,
   "metadata": {},
   "outputs": [
    {
     "output_type": "execute_result",
     "data": {
      "text/plain": "array([[ 986,  609],\n       [ 395, 4523]], dtype=int64)"
     },
     "metadata": {},
     "execution_count": 63
    }
   ],
   "source": [
    "cm_svc_lr = confusion_matrix(y_test,y_pred_svc_lr)\n",
    "cm_svc_lr"
   ]
  },
  {
   "cell_type": "code",
   "execution_count": 64,
   "metadata": {},
   "outputs": [
    {
     "output_type": "execute_result",
     "data": {
      "text/plain": "SVC(random_state=0)"
     },
     "metadata": {},
     "execution_count": 64
    }
   ],
   "source": [
    "#kernel SVM rbf\n",
    "from sklearn.svm import SVC\n",
    "svc_rbf_clf = SVC(kernel='rbf',random_state=0)\n",
    "svc_rbf_clf.fit(X_train,y_train)"
   ]
  },
  {
   "cell_type": "code",
   "execution_count": 65,
   "metadata": {},
   "outputs": [],
   "source": [
    "y_pred_svc_rbf = svc_rbf_clf.predict(X_test)"
   ]
  },
  {
   "cell_type": "code",
   "execution_count": 66,
   "metadata": {},
   "outputs": [
    {
     "output_type": "execute_result",
     "data": {
      "text/plain": "0.8320282511899278"
     },
     "metadata": {},
     "execution_count": 66
    }
   ],
   "source": [
    "svc_rbf_clf.score(X_test,y_test)"
   ]
  },
  {
   "cell_type": "code",
   "execution_count": 67,
   "metadata": {},
   "outputs": [
    {
     "output_type": "execute_result",
     "data": {
      "text/plain": "array([[ 731,  864],\n       [ 230, 4688]], dtype=int64)"
     },
     "metadata": {},
     "execution_count": 67
    }
   ],
   "source": [
    "cm_svc_rbf = confusion_matrix(y_test,y_pred_svc_rbf)\n",
    "cm_svc_rbf"
   ]
  },
  {
   "cell_type": "code",
   "execution_count": 68,
   "metadata": {},
   "outputs": [
    {
     "output_type": "execute_result",
     "data": {
      "text/plain": "GaussianNB()"
     },
     "metadata": {},
     "execution_count": 68
    }
   ],
   "source": [
    "# naive bayes\n",
    "from sklearn.naive_bayes import GaussianNB\n",
    "gnb_clf = GaussianNB()\n",
    "gnb_clf.fit(X_train,y_train)"
   ]
  },
  {
   "cell_type": "code",
   "execution_count": 69,
   "metadata": {},
   "outputs": [],
   "source": [
    "y_pred_gnb = gnb_clf.predict(X_test)"
   ]
  },
  {
   "cell_type": "code",
   "execution_count": 70,
   "metadata": {},
   "outputs": [
    {
     "output_type": "execute_result",
     "data": {
      "text/plain": "0.5541225241824044"
     },
     "metadata": {},
     "execution_count": 70
    }
   ],
   "source": [
    "gnb_clf.score(X_test,y_test)"
   ]
  },
  {
   "cell_type": "code",
   "execution_count": 71,
   "metadata": {},
   "outputs": [
    {
     "output_type": "execute_result",
     "data": {
      "text/plain": "array([[1512,   83],\n       [2821, 2097]], dtype=int64)"
     },
     "metadata": {},
     "execution_count": 71
    }
   ],
   "source": [
    "cm_gnb = confusion_matrix(y_test,y_pred_gnb)\n",
    "cm_gnb"
   ]
  },
  {
   "cell_type": "code",
   "execution_count": 72,
   "metadata": {},
   "outputs": [
    {
     "output_type": "execute_result",
     "data": {
      "text/plain": "DecisionTreeClassifier(criterion='entropy', random_state=0)"
     },
     "metadata": {},
     "execution_count": 72
    }
   ],
   "source": [
    "#DecisionTree Classifier\n",
    "from sklearn.tree import DecisionTreeClassifier\n",
    "dtc_clf = DecisionTreeClassifier(criterion='entropy',random_state=0)\n",
    "dtc_clf.fit(X_train,y_train)"
   ]
  },
  {
   "cell_type": "code",
   "execution_count": 73,
   "metadata": {},
   "outputs": [],
   "source": [
    "y_pred_dtc = dtc_clf.predict(X_test)"
   ]
  },
  {
   "cell_type": "code",
   "execution_count": 74,
   "metadata": {},
   "outputs": [
    {
     "output_type": "execute_result",
     "data": {
      "text/plain": "0.8180561953017043"
     },
     "metadata": {},
     "execution_count": 74
    }
   ],
   "source": [
    "dtc_clf.score(X_test,y_test)"
   ]
  },
  {
   "cell_type": "code",
   "execution_count": 75,
   "metadata": {},
   "outputs": [
    {
     "output_type": "execute_result",
     "data": {
      "text/plain": "array([[1047,  548],\n       [ 637, 4281]], dtype=int64)"
     },
     "metadata": {},
     "execution_count": 75
    }
   ],
   "source": [
    "cm_dtc = confusion_matrix(y_test,y_pred_dtc)\n",
    "cm_dtc"
   ]
  },
  {
   "cell_type": "code",
   "execution_count": 76,
   "metadata": {},
   "outputs": [
    {
     "output_type": "execute_result",
     "data": {
      "text/plain": "RandomForestClassifier(criterion='entropy', random_state=0)"
     },
     "metadata": {},
     "execution_count": 76
    }
   ],
   "source": [
    "# Random Forest Classification\n",
    "from sklearn.ensemble import RandomForestClassifier\n",
    "rfc_clf = RandomForestClassifier(n_estimators=100,random_state=0,criterion='entropy')\n",
    "rfc_clf.fit(X_train,y_train)"
   ]
  },
  {
   "cell_type": "code",
   "execution_count": 77,
   "metadata": {},
   "outputs": [],
   "source": [
    "y_pred_rfc = rfc_clf.predict(X_test)"
   ]
  },
  {
   "cell_type": "code",
   "execution_count": 78,
   "metadata": {},
   "outputs": [
    {
     "output_type": "execute_result",
     "data": {
      "text/plain": "0.8479963150621833"
     },
     "metadata": {},
     "execution_count": 78
    }
   ],
   "source": [
    "rfc_clf.score(X_test,y_test)"
   ]
  },
  {
   "cell_type": "code",
   "execution_count": 79,
   "metadata": {},
   "outputs": [
    {
     "output_type": "execute_result",
     "data": {
      "text/plain": "array([[1010,  585],\n       [ 405, 4513]], dtype=int64)"
     },
     "metadata": {},
     "execution_count": 79
    }
   ],
   "source": [
    "cm_rfc = confusion_matrix(y_test,y_pred_rfc)\n",
    "cm_rfc"
   ]
  },
  {
   "cell_type": "code",
   "execution_count": 1,
   "metadata": {},
   "outputs": [
    {
     "output_type": "execute_result",
     "data": {
      "text/plain": "\"\\nConclusion:\\nI Applied following methods on this dataset with the following scores, sorted from the best preformance to the worst\\n\\nRandom Forest Classification : 0.8479\\nSVM linear                   : 0.8458\\nLogistic Regression          : 0.8447\\nKernel SVM rbf               : 0.8320\\nDecision Tree Classification : 0.8180\\nKNN                          : 0.8080\\nNaive-Bayes                  : 0.5541\\n\\nI don't know yet that why Naive Bayes had this awful results, maybe because of the non linearity of the data ...\\n\\nthanks for reading my code and i would be glad to hear about your suggestions :)\\n\""
     },
     "metadata": {},
     "execution_count": 1
    }
   ],
   "source": [
    "\n",
    "# Conclusion:\n",
    "# I Applied following methods on this dataset with the following scores, sorted from the best preformance to the worst\n",
    "\n",
    "# Random Forest Classification : 0.8479\n",
    "# SVM linear                   : 0.8458\n",
    "# Logistic Regression          : 0.8447\n",
    "# Kernel SVM rbf               : 0.8320\n",
    "# Decision Tree Classification : 0.8180\n",
    "# KNN                          : 0.8080\n",
    "# Naive-Bayes                  : 0.5541\n",
    "\n",
    "# I don't know yet that why Naive Bayes had this awful results, maybe because of the non linearity of the data ...\n",
    "\n",
    "# thanks for reading my code and i would be glad to hear about your suggestions :)\n"
   ]
  }
 ]
}