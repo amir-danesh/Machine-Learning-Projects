{
 "metadata": {
  "language_info": {
   "codemirror_mode": {
    "name": "ipython",
    "version": 3
   },
   "file_extension": ".py",
   "mimetype": "text/x-python",
   "name": "python",
   "nbconvert_exporter": "python",
   "pygments_lexer": "ipython3",
   "version": "3.8.4-final"
  },
  "orig_nbformat": 2,
  "kernelspec": {
   "name": "python_defaultSpec_1599560600705",
   "display_name": "Python 3.8.4 64-bit"
  }
 },
 "nbformat": 4,
 "nbformat_minor": 2,
 "cells": [
  {
   "cell_type": "code",
   "execution_count": 2,
   "metadata": {},
   "outputs": [],
   "source": [
    "#     Medical Cost Insurance\n",
    "#     This is an exercise for Regression problems.\n",
    "#     I'm going to apply:\n",
    "#         -Multiple Linear Regression\n",
    "#         -SVR\n",
    "#         -Decision Tree Regression\n",
    "#         -Random Forest Regression\n",
    "\n",
    "#     to see which one has the best preformance\n",
    "\n",
    "#     FT: I'm a beginner in ML and any segesstions would be appritiated :)"
   ]
  },
  {
   "cell_type": "code",
   "execution_count": 3,
   "metadata": {},
   "outputs": [],
   "source": [
    "import numpy as np\n",
    "import matplotlib as pyplot\n",
    "import pandas as pd"
   ]
  },
  {
   "cell_type": "code",
   "execution_count": null,
   "metadata": {},
   "outputs": [],
   "source": [
    "data_set = pd.rea"
   ]
  }
 ]
}